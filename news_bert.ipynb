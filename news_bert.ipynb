{
  "cells": [
    {
      "cell_type": "markdown",
      "metadata": {
        "id": "ONaAE3lzOoXI"
      },
      "source": [
        "# News Headline Classification with Bert"
      ]
    },
    {
      "cell_type": "markdown",
      "source": [
        "## Setup Google Drive Environment"
      ],
      "metadata": {
        "id": "6Q7lq1GuPBzq"
      }
    },
    {
      "cell_type": "code",
      "source": [
        "from google.colab import drive\n",
        "drive.mount('/content/drive/', force_remount=True)"
      ],
      "metadata": {
        "colab": {
          "base_uri": "https://localhost:8080/"
        },
        "id": "I8Dj6rHbPIEg",
        "outputId": "baf5bcd2-41ad-4e08-b9bc-e6ba6f84f0b3"
      },
      "execution_count": null,
      "outputs": [
        {
          "output_type": "stream",
          "name": "stdout",
          "text": [
            "Mounted at /content/drive/\n"
          ]
        }
      ]
    },
    {
      "cell_type": "markdown",
      "metadata": {
        "id": "kSx2NcJQOoXJ"
      },
      "source": [
        "## Load the data"
      ]
    },
    {
      "cell_type": "code",
      "execution_count": null,
      "metadata": {
        "id": "u_ivC9SrOoXK"
      },
      "outputs": [],
      "source": [
        "import pandas as pd\n",
        "from sklearn.model_selection import train_test_split\n",
        "from sklearn.utils import shuffle"
      ]
    },
    {
      "cell_type": "code",
      "execution_count": null,
      "metadata": {
        "colab": {
          "base_uri": "https://localhost:8080/",
          "height": 337
        },
        "id": "Bz5qQ-Q2OoXK",
        "outputId": "1709cb21-408a-479c-8767-928735d87ddb"
      },
      "outputs": [
        {
          "output_type": "execute_result",
          "data": {
            "text/plain": [
              "    index  category                                           headline  \\\n",
              "0   20578  POLITICS  Obamacare Repeal Moves Ahead With Key Senate Vote   \n",
              "1   22048  POLITICS  Guantanamo ‘Freedom Fest’ Features Band Whose ...   \n",
              "2   75295    COMEDY                                     In the Heights   \n",
              "3  171414     MONEY         'Cheap' Private Islands For Under $350,000   \n",
              "4  167320  WELLNESS  The Voice of Reason: (Maybe Not) for Emergency...   \n",
              "\n",
              "                                             authors  \\\n",
              "0                                      Jeffrey Young   \n",
              "1                                  Jessica Schulberg   \n",
              "2  Marcia Liss, Contributor(Almost) Famous Cartoo...   \n",
              "3                                                      \n",
              "4  Susan Weissman, Contributor\\nAuthor, \"Feeding ...   \n",
              "\n",
              "                                                link  \\\n",
              "0  https://www.huffingtonpost.com/entry/obamacare...   \n",
              "1  https://www.huffingtonpost.com/entry/guantanam...   \n",
              "2  https://www.huffingtonpost.com/entry/in-the-he...   \n",
              "3  https://www.huffingtonpost.com/entry/cheap-pri...   \n",
              "4  https://www.huffingtonpost.com/entry/medical-t...   \n",
              "\n",
              "                                   short_description       date  \n",
              "0  It's still totally unclear just what bill the ... 2017-07-25  \n",
              "1  Years after the military used Drowning Pool mu... 2017-07-07  \n",
              "2                                                    2015-11-08  \n",
              "3  Just in time for the holiday season, Private I... 2012-12-10  \n",
              "4  Imagine if that tiny print on prescription bot... 2013-01-23  "
            ],
            "text/html": [
              "\n",
              "  <div id=\"df-092fecd4-596f-4598-997e-99f043703117\">\n",
              "    <div class=\"colab-df-container\">\n",
              "      <div>\n",
              "<style scoped>\n",
              "    .dataframe tbody tr th:only-of-type {\n",
              "        vertical-align: middle;\n",
              "    }\n",
              "\n",
              "    .dataframe tbody tr th {\n",
              "        vertical-align: top;\n",
              "    }\n",
              "\n",
              "    .dataframe thead th {\n",
              "        text-align: right;\n",
              "    }\n",
              "</style>\n",
              "<table border=\"1\" class=\"dataframe\">\n",
              "  <thead>\n",
              "    <tr style=\"text-align: right;\">\n",
              "      <th></th>\n",
              "      <th>index</th>\n",
              "      <th>category</th>\n",
              "      <th>headline</th>\n",
              "      <th>authors</th>\n",
              "      <th>link</th>\n",
              "      <th>short_description</th>\n",
              "      <th>date</th>\n",
              "    </tr>\n",
              "  </thead>\n",
              "  <tbody>\n",
              "    <tr>\n",
              "      <th>0</th>\n",
              "      <td>20578</td>\n",
              "      <td>POLITICS</td>\n",
              "      <td>Obamacare Repeal Moves Ahead With Key Senate Vote</td>\n",
              "      <td>Jeffrey Young</td>\n",
              "      <td>https://www.huffingtonpost.com/entry/obamacare...</td>\n",
              "      <td>It's still totally unclear just what bill the ...</td>\n",
              "      <td>2017-07-25</td>\n",
              "    </tr>\n",
              "    <tr>\n",
              "      <th>1</th>\n",
              "      <td>22048</td>\n",
              "      <td>POLITICS</td>\n",
              "      <td>Guantanamo ‘Freedom Fest’ Features Band Whose ...</td>\n",
              "      <td>Jessica Schulberg</td>\n",
              "      <td>https://www.huffingtonpost.com/entry/guantanam...</td>\n",
              "      <td>Years after the military used Drowning Pool mu...</td>\n",
              "      <td>2017-07-07</td>\n",
              "    </tr>\n",
              "    <tr>\n",
              "      <th>2</th>\n",
              "      <td>75295</td>\n",
              "      <td>COMEDY</td>\n",
              "      <td>In the Heights</td>\n",
              "      <td>Marcia Liss, Contributor(Almost) Famous Cartoo...</td>\n",
              "      <td>https://www.huffingtonpost.com/entry/in-the-he...</td>\n",
              "      <td></td>\n",
              "      <td>2015-11-08</td>\n",
              "    </tr>\n",
              "    <tr>\n",
              "      <th>3</th>\n",
              "      <td>171414</td>\n",
              "      <td>MONEY</td>\n",
              "      <td>'Cheap' Private Islands For Under $350,000</td>\n",
              "      <td></td>\n",
              "      <td>https://www.huffingtonpost.com/entry/cheap-pri...</td>\n",
              "      <td>Just in time for the holiday season, Private I...</td>\n",
              "      <td>2012-12-10</td>\n",
              "    </tr>\n",
              "    <tr>\n",
              "      <th>4</th>\n",
              "      <td>167320</td>\n",
              "      <td>WELLNESS</td>\n",
              "      <td>The Voice of Reason: (Maybe Not) for Emergency...</td>\n",
              "      <td>Susan Weissman, Contributor\\nAuthor, \"Feeding ...</td>\n",
              "      <td>https://www.huffingtonpost.com/entry/medical-t...</td>\n",
              "      <td>Imagine if that tiny print on prescription bot...</td>\n",
              "      <td>2013-01-23</td>\n",
              "    </tr>\n",
              "  </tbody>\n",
              "</table>\n",
              "</div>\n",
              "      <button class=\"colab-df-convert\" onclick=\"convertToInteractive('df-092fecd4-596f-4598-997e-99f043703117')\"\n",
              "              title=\"Convert this dataframe to an interactive table.\"\n",
              "              style=\"display:none;\">\n",
              "        \n",
              "  <svg xmlns=\"http://www.w3.org/2000/svg\" height=\"24px\"viewBox=\"0 0 24 24\"\n",
              "       width=\"24px\">\n",
              "    <path d=\"M0 0h24v24H0V0z\" fill=\"none\"/>\n",
              "    <path d=\"M18.56 5.44l.94 2.06.94-2.06 2.06-.94-2.06-.94-.94-2.06-.94 2.06-2.06.94zm-11 1L8.5 8.5l.94-2.06 2.06-.94-2.06-.94L8.5 2.5l-.94 2.06-2.06.94zm10 10l.94 2.06.94-2.06 2.06-.94-2.06-.94-.94-2.06-.94 2.06-2.06.94z\"/><path d=\"M17.41 7.96l-1.37-1.37c-.4-.4-.92-.59-1.43-.59-.52 0-1.04.2-1.43.59L10.3 9.45l-7.72 7.72c-.78.78-.78 2.05 0 2.83L4 21.41c.39.39.9.59 1.41.59.51 0 1.02-.2 1.41-.59l7.78-7.78 2.81-2.81c.8-.78.8-2.07 0-2.86zM5.41 20L4 18.59l7.72-7.72 1.47 1.35L5.41 20z\"/>\n",
              "  </svg>\n",
              "      </button>\n",
              "      \n",
              "  <style>\n",
              "    .colab-df-container {\n",
              "      display:flex;\n",
              "      flex-wrap:wrap;\n",
              "      gap: 12px;\n",
              "    }\n",
              "\n",
              "    .colab-df-convert {\n",
              "      background-color: #E8F0FE;\n",
              "      border: none;\n",
              "      border-radius: 50%;\n",
              "      cursor: pointer;\n",
              "      display: none;\n",
              "      fill: #1967D2;\n",
              "      height: 32px;\n",
              "      padding: 0 0 0 0;\n",
              "      width: 32px;\n",
              "    }\n",
              "\n",
              "    .colab-df-convert:hover {\n",
              "      background-color: #E2EBFA;\n",
              "      box-shadow: 0px 1px 2px rgba(60, 64, 67, 0.3), 0px 1px 3px 1px rgba(60, 64, 67, 0.15);\n",
              "      fill: #174EA6;\n",
              "    }\n",
              "\n",
              "    [theme=dark] .colab-df-convert {\n",
              "      background-color: #3B4455;\n",
              "      fill: #D2E3FC;\n",
              "    }\n",
              "\n",
              "    [theme=dark] .colab-df-convert:hover {\n",
              "      background-color: #434B5C;\n",
              "      box-shadow: 0px 1px 3px 1px rgba(0, 0, 0, 0.15);\n",
              "      filter: drop-shadow(0px 1px 2px rgba(0, 0, 0, 0.3));\n",
              "      fill: #FFFFFF;\n",
              "    }\n",
              "  </style>\n",
              "\n",
              "      <script>\n",
              "        const buttonEl =\n",
              "          document.querySelector('#df-092fecd4-596f-4598-997e-99f043703117 button.colab-df-convert');\n",
              "        buttonEl.style.display =\n",
              "          google.colab.kernel.accessAllowed ? 'block' : 'none';\n",
              "\n",
              "        async function convertToInteractive(key) {\n",
              "          const element = document.querySelector('#df-092fecd4-596f-4598-997e-99f043703117');\n",
              "          const dataTable =\n",
              "            await google.colab.kernel.invokeFunction('convertToInteractive',\n",
              "                                                     [key], {});\n",
              "          if (!dataTable) return;\n",
              "\n",
              "          const docLinkHtml = 'Like what you see? Visit the ' +\n",
              "            '<a target=\"_blank\" href=https://colab.research.google.com/notebooks/data_table.ipynb>data table notebook</a>'\n",
              "            + ' to learn more about interactive tables.';\n",
              "          element.innerHTML = '';\n",
              "          dataTable['output_type'] = 'display_data';\n",
              "          await google.colab.output.renderOutput(dataTable, element);\n",
              "          const docLink = document.createElement('div');\n",
              "          docLink.innerHTML = docLinkHtml;\n",
              "          element.appendChild(docLink);\n",
              "        }\n",
              "      </script>\n",
              "    </div>\n",
              "  </div>\n",
              "  "
            ]
          },
          "metadata": {},
          "execution_count": 3
        }
      ],
      "source": [
        "df = shuffle(pd.read_json('/content/drive/My Drive/data/News_Category_Dataset_v2.json', lines=True)).reset_index()\n",
        "df.head()"
      ]
    },
    {
      "cell_type": "markdown",
      "metadata": {
        "id": "1hP9A-_zOoXL"
      },
      "source": [
        "### Class labels\n"
      ]
    },
    {
      "cell_type": "code",
      "source": [
        "# # clean the labels\n",
        "# # change CULTURE & ARTS to ARTS & CULTURE\n",
        "# df['category'] = df['category'].replace('CULTURE & ARTS', 'ARTS & CULTURE')\n",
        "# # drop rows with THE WORLDPOST\n",
        "# df = df[df['category'] != 'THE WORLDPOST']\n",
        "# # drop rows with WORLDPOST\n",
        "# df = df[df['category'] != 'WORLDPOST']\n",
        "# # drop rows with QUEER VOICES\n",
        "# df = df[df['category'] != 'QUEER VOICES']\n",
        "# # drop rows with BLACK VOICES\n",
        "# df = df[df['category'] != 'BLACK VOICES']\n",
        "# # drop rows with LATINO VOICES\n",
        "# df = df[df['category'] != 'LATINO VOICES']\n",
        "# # drop rows with IMPACT\n",
        "# df = df[df['category'] != 'IMPACT']\n",
        "# # drop rows with WEIRD NEWS\n",
        "# df = df[df['category'] != 'WEIRD NEWS']\n",
        "# # drop rows wuth GREEN\n",
        "# df = df[df['category'] != 'GREEN']\n",
        "# # drop rows with STYLE\n",
        "# df = df[df['category'] != 'STYLE']\n",
        "# # drop rows with TASTE\n",
        "# df = df[df['category'] != 'TASTE']\n",
        "# # drop rows with GOOD NEWS\n",
        "# df = df[df['category'] != 'GOOD NEWS']\n",
        "# # drop rows with FIFTY\n",
        "# df = df[df['category'] != 'FIFTY']\n",
        "# # drop rows with PARENTS\n",
        "# df = df[df['category'] != 'PARENTS']\n",
        "# # drop rows with COMEDY\n",
        "# df = df[df['category'] != 'COMEDY']\n",
        "# # drop rows with DIVORCE\n",
        "# df = df[df['category'] != 'DIVORCE']\n",
        "# #drop rows with HOME & LIVING\n",
        "# df = df[df['category'] != 'HOME & LIVING']\n",
        "# # drop rows with WEDDINGS\n",
        "# df = df[df['category'] != 'WEDDINGS']\n",
        "# # drop rows with COLLEGE\n",
        "# df = df[df['category'] != 'COLLEGE']\n",
        "# # drop rows with WOMEN\n",
        "# df = df[df['category'] != 'WOMEN']"
      ],
      "metadata": {
        "id": "qVFpkq3dKQlp"
      },
      "execution_count": null,
      "outputs": []
    },
    {
      "cell_type": "code",
      "source": [
        "label_counts = df['category'].value_counts().rename_axis('labels').reset_index(name='counts')\n",
        "label_counts"
      ],
      "metadata": {
        "colab": {
          "base_uri": "https://localhost:8080/",
          "height": 1000
        },
        "id": "KPTJF7PHAOGK",
        "outputId": "ec7c0f87-2668-4b6d-a2e1-a1dc79acf427"
      },
      "execution_count": null,
      "outputs": [
        {
          "output_type": "execute_result",
          "data": {
            "text/plain": [
              "            labels  counts\n",
              "0         POLITICS   32739\n",
              "1         WELLNESS   17827\n",
              "2    ENTERTAINMENT   16058\n",
              "3           TRAVEL    9887\n",
              "4   STYLE & BEAUTY    9649\n",
              "5        PARENTING    8677\n",
              "6   HEALTHY LIVING    6694\n",
              "7     QUEER VOICES    6314\n",
              "8     FOOD & DRINK    6226\n",
              "9         BUSINESS    5937\n",
              "10          COMEDY    5175\n",
              "11          SPORTS    4884\n",
              "12    BLACK VOICES    4528\n",
              "13   HOME & LIVING    4195\n",
              "14         PARENTS    3955\n",
              "15   THE WORLDPOST    3664\n",
              "16        WEDDINGS    3651\n",
              "17           WOMEN    3490\n",
              "18          IMPACT    3459\n",
              "19         DIVORCE    3426\n",
              "20           CRIME    3405\n",
              "21           MEDIA    2815\n",
              "22      WEIRD NEWS    2670\n",
              "23           GREEN    2622\n",
              "24       WORLDPOST    2579\n",
              "25        RELIGION    2556\n",
              "26           STYLE    2254\n",
              "27         SCIENCE    2178\n",
              "28      WORLD NEWS    2177\n",
              "29           TASTE    2096\n",
              "30            TECH    2082\n",
              "31           MONEY    1707\n",
              "32            ARTS    1509\n",
              "33           FIFTY    1401\n",
              "34       GOOD NEWS    1398\n",
              "35  ARTS & CULTURE    1339\n",
              "36     ENVIRONMENT    1323\n",
              "37         COLLEGE    1144\n",
              "38   LATINO VOICES    1129\n",
              "39  CULTURE & ARTS    1030\n",
              "40       EDUCATION    1004"
            ],
            "text/html": [
              "\n",
              "  <div id=\"df-c8334727-3d7e-4cbe-b910-6870417693e1\">\n",
              "    <div class=\"colab-df-container\">\n",
              "      <div>\n",
              "<style scoped>\n",
              "    .dataframe tbody tr th:only-of-type {\n",
              "        vertical-align: middle;\n",
              "    }\n",
              "\n",
              "    .dataframe tbody tr th {\n",
              "        vertical-align: top;\n",
              "    }\n",
              "\n",
              "    .dataframe thead th {\n",
              "        text-align: right;\n",
              "    }\n",
              "</style>\n",
              "<table border=\"1\" class=\"dataframe\">\n",
              "  <thead>\n",
              "    <tr style=\"text-align: right;\">\n",
              "      <th></th>\n",
              "      <th>labels</th>\n",
              "      <th>counts</th>\n",
              "    </tr>\n",
              "  </thead>\n",
              "  <tbody>\n",
              "    <tr>\n",
              "      <th>0</th>\n",
              "      <td>POLITICS</td>\n",
              "      <td>32739</td>\n",
              "    </tr>\n",
              "    <tr>\n",
              "      <th>1</th>\n",
              "      <td>WELLNESS</td>\n",
              "      <td>17827</td>\n",
              "    </tr>\n",
              "    <tr>\n",
              "      <th>2</th>\n",
              "      <td>ENTERTAINMENT</td>\n",
              "      <td>16058</td>\n",
              "    </tr>\n",
              "    <tr>\n",
              "      <th>3</th>\n",
              "      <td>TRAVEL</td>\n",
              "      <td>9887</td>\n",
              "    </tr>\n",
              "    <tr>\n",
              "      <th>4</th>\n",
              "      <td>STYLE &amp; BEAUTY</td>\n",
              "      <td>9649</td>\n",
              "    </tr>\n",
              "    <tr>\n",
              "      <th>5</th>\n",
              "      <td>PARENTING</td>\n",
              "      <td>8677</td>\n",
              "    </tr>\n",
              "    <tr>\n",
              "      <th>6</th>\n",
              "      <td>HEALTHY LIVING</td>\n",
              "      <td>6694</td>\n",
              "    </tr>\n",
              "    <tr>\n",
              "      <th>7</th>\n",
              "      <td>QUEER VOICES</td>\n",
              "      <td>6314</td>\n",
              "    </tr>\n",
              "    <tr>\n",
              "      <th>8</th>\n",
              "      <td>FOOD &amp; DRINK</td>\n",
              "      <td>6226</td>\n",
              "    </tr>\n",
              "    <tr>\n",
              "      <th>9</th>\n",
              "      <td>BUSINESS</td>\n",
              "      <td>5937</td>\n",
              "    </tr>\n",
              "    <tr>\n",
              "      <th>10</th>\n",
              "      <td>COMEDY</td>\n",
              "      <td>5175</td>\n",
              "    </tr>\n",
              "    <tr>\n",
              "      <th>11</th>\n",
              "      <td>SPORTS</td>\n",
              "      <td>4884</td>\n",
              "    </tr>\n",
              "    <tr>\n",
              "      <th>12</th>\n",
              "      <td>BLACK VOICES</td>\n",
              "      <td>4528</td>\n",
              "    </tr>\n",
              "    <tr>\n",
              "      <th>13</th>\n",
              "      <td>HOME &amp; LIVING</td>\n",
              "      <td>4195</td>\n",
              "    </tr>\n",
              "    <tr>\n",
              "      <th>14</th>\n",
              "      <td>PARENTS</td>\n",
              "      <td>3955</td>\n",
              "    </tr>\n",
              "    <tr>\n",
              "      <th>15</th>\n",
              "      <td>THE WORLDPOST</td>\n",
              "      <td>3664</td>\n",
              "    </tr>\n",
              "    <tr>\n",
              "      <th>16</th>\n",
              "      <td>WEDDINGS</td>\n",
              "      <td>3651</td>\n",
              "    </tr>\n",
              "    <tr>\n",
              "      <th>17</th>\n",
              "      <td>WOMEN</td>\n",
              "      <td>3490</td>\n",
              "    </tr>\n",
              "    <tr>\n",
              "      <th>18</th>\n",
              "      <td>IMPACT</td>\n",
              "      <td>3459</td>\n",
              "    </tr>\n",
              "    <tr>\n",
              "      <th>19</th>\n",
              "      <td>DIVORCE</td>\n",
              "      <td>3426</td>\n",
              "    </tr>\n",
              "    <tr>\n",
              "      <th>20</th>\n",
              "      <td>CRIME</td>\n",
              "      <td>3405</td>\n",
              "    </tr>\n",
              "    <tr>\n",
              "      <th>21</th>\n",
              "      <td>MEDIA</td>\n",
              "      <td>2815</td>\n",
              "    </tr>\n",
              "    <tr>\n",
              "      <th>22</th>\n",
              "      <td>WEIRD NEWS</td>\n",
              "      <td>2670</td>\n",
              "    </tr>\n",
              "    <tr>\n",
              "      <th>23</th>\n",
              "      <td>GREEN</td>\n",
              "      <td>2622</td>\n",
              "    </tr>\n",
              "    <tr>\n",
              "      <th>24</th>\n",
              "      <td>WORLDPOST</td>\n",
              "      <td>2579</td>\n",
              "    </tr>\n",
              "    <tr>\n",
              "      <th>25</th>\n",
              "      <td>RELIGION</td>\n",
              "      <td>2556</td>\n",
              "    </tr>\n",
              "    <tr>\n",
              "      <th>26</th>\n",
              "      <td>STYLE</td>\n",
              "      <td>2254</td>\n",
              "    </tr>\n",
              "    <tr>\n",
              "      <th>27</th>\n",
              "      <td>SCIENCE</td>\n",
              "      <td>2178</td>\n",
              "    </tr>\n",
              "    <tr>\n",
              "      <th>28</th>\n",
              "      <td>WORLD NEWS</td>\n",
              "      <td>2177</td>\n",
              "    </tr>\n",
              "    <tr>\n",
              "      <th>29</th>\n",
              "      <td>TASTE</td>\n",
              "      <td>2096</td>\n",
              "    </tr>\n",
              "    <tr>\n",
              "      <th>30</th>\n",
              "      <td>TECH</td>\n",
              "      <td>2082</td>\n",
              "    </tr>\n",
              "    <tr>\n",
              "      <th>31</th>\n",
              "      <td>MONEY</td>\n",
              "      <td>1707</td>\n",
              "    </tr>\n",
              "    <tr>\n",
              "      <th>32</th>\n",
              "      <td>ARTS</td>\n",
              "      <td>1509</td>\n",
              "    </tr>\n",
              "    <tr>\n",
              "      <th>33</th>\n",
              "      <td>FIFTY</td>\n",
              "      <td>1401</td>\n",
              "    </tr>\n",
              "    <tr>\n",
              "      <th>34</th>\n",
              "      <td>GOOD NEWS</td>\n",
              "      <td>1398</td>\n",
              "    </tr>\n",
              "    <tr>\n",
              "      <th>35</th>\n",
              "      <td>ARTS &amp; CULTURE</td>\n",
              "      <td>1339</td>\n",
              "    </tr>\n",
              "    <tr>\n",
              "      <th>36</th>\n",
              "      <td>ENVIRONMENT</td>\n",
              "      <td>1323</td>\n",
              "    </tr>\n",
              "    <tr>\n",
              "      <th>37</th>\n",
              "      <td>COLLEGE</td>\n",
              "      <td>1144</td>\n",
              "    </tr>\n",
              "    <tr>\n",
              "      <th>38</th>\n",
              "      <td>LATINO VOICES</td>\n",
              "      <td>1129</td>\n",
              "    </tr>\n",
              "    <tr>\n",
              "      <th>39</th>\n",
              "      <td>CULTURE &amp; ARTS</td>\n",
              "      <td>1030</td>\n",
              "    </tr>\n",
              "    <tr>\n",
              "      <th>40</th>\n",
              "      <td>EDUCATION</td>\n",
              "      <td>1004</td>\n",
              "    </tr>\n",
              "  </tbody>\n",
              "</table>\n",
              "</div>\n",
              "      <button class=\"colab-df-convert\" onclick=\"convertToInteractive('df-c8334727-3d7e-4cbe-b910-6870417693e1')\"\n",
              "              title=\"Convert this dataframe to an interactive table.\"\n",
              "              style=\"display:none;\">\n",
              "        \n",
              "  <svg xmlns=\"http://www.w3.org/2000/svg\" height=\"24px\"viewBox=\"0 0 24 24\"\n",
              "       width=\"24px\">\n",
              "    <path d=\"M0 0h24v24H0V0z\" fill=\"none\"/>\n",
              "    <path d=\"M18.56 5.44l.94 2.06.94-2.06 2.06-.94-2.06-.94-.94-2.06-.94 2.06-2.06.94zm-11 1L8.5 8.5l.94-2.06 2.06-.94-2.06-.94L8.5 2.5l-.94 2.06-2.06.94zm10 10l.94 2.06.94-2.06 2.06-.94-2.06-.94-.94-2.06-.94 2.06-2.06.94z\"/><path d=\"M17.41 7.96l-1.37-1.37c-.4-.4-.92-.59-1.43-.59-.52 0-1.04.2-1.43.59L10.3 9.45l-7.72 7.72c-.78.78-.78 2.05 0 2.83L4 21.41c.39.39.9.59 1.41.59.51 0 1.02-.2 1.41-.59l7.78-7.78 2.81-2.81c.8-.78.8-2.07 0-2.86zM5.41 20L4 18.59l7.72-7.72 1.47 1.35L5.41 20z\"/>\n",
              "  </svg>\n",
              "      </button>\n",
              "      \n",
              "  <style>\n",
              "    .colab-df-container {\n",
              "      display:flex;\n",
              "      flex-wrap:wrap;\n",
              "      gap: 12px;\n",
              "    }\n",
              "\n",
              "    .colab-df-convert {\n",
              "      background-color: #E8F0FE;\n",
              "      border: none;\n",
              "      border-radius: 50%;\n",
              "      cursor: pointer;\n",
              "      display: none;\n",
              "      fill: #1967D2;\n",
              "      height: 32px;\n",
              "      padding: 0 0 0 0;\n",
              "      width: 32px;\n",
              "    }\n",
              "\n",
              "    .colab-df-convert:hover {\n",
              "      background-color: #E2EBFA;\n",
              "      box-shadow: 0px 1px 2px rgba(60, 64, 67, 0.3), 0px 1px 3px 1px rgba(60, 64, 67, 0.15);\n",
              "      fill: #174EA6;\n",
              "    }\n",
              "\n",
              "    [theme=dark] .colab-df-convert {\n",
              "      background-color: #3B4455;\n",
              "      fill: #D2E3FC;\n",
              "    }\n",
              "\n",
              "    [theme=dark] .colab-df-convert:hover {\n",
              "      background-color: #434B5C;\n",
              "      box-shadow: 0px 1px 3px 1px rgba(0, 0, 0, 0.15);\n",
              "      filter: drop-shadow(0px 1px 2px rgba(0, 0, 0, 0.3));\n",
              "      fill: #FFFFFF;\n",
              "    }\n",
              "  </style>\n",
              "\n",
              "      <script>\n",
              "        const buttonEl =\n",
              "          document.querySelector('#df-c8334727-3d7e-4cbe-b910-6870417693e1 button.colab-df-convert');\n",
              "        buttonEl.style.display =\n",
              "          google.colab.kernel.accessAllowed ? 'block' : 'none';\n",
              "\n",
              "        async function convertToInteractive(key) {\n",
              "          const element = document.querySelector('#df-c8334727-3d7e-4cbe-b910-6870417693e1');\n",
              "          const dataTable =\n",
              "            await google.colab.kernel.invokeFunction('convertToInteractive',\n",
              "                                                     [key], {});\n",
              "          if (!dataTable) return;\n",
              "\n",
              "          const docLinkHtml = 'Like what you see? Visit the ' +\n",
              "            '<a target=\"_blank\" href=https://colab.research.google.com/notebooks/data_table.ipynb>data table notebook</a>'\n",
              "            + ' to learn more about interactive tables.';\n",
              "          element.innerHTML = '';\n",
              "          dataTable['output_type'] = 'display_data';\n",
              "          await google.colab.output.renderOutput(dataTable, element);\n",
              "          const docLink = document.createElement('div');\n",
              "          docLink.innerHTML = docLinkHtml;\n",
              "          element.appendChild(docLink);\n",
              "        }\n",
              "      </script>\n",
              "    </div>\n",
              "  </div>\n",
              "  "
            ]
          },
          "metadata": {},
          "execution_count": 4
        }
      ]
    },
    {
      "cell_type": "code",
      "source": [
        "sum(label_counts['counts'].tolist()[:10]) / len(df)"
      ],
      "metadata": {
        "colab": {
          "base_uri": "https://localhost:8080/"
        },
        "id": "-luP0x7qA3BZ",
        "outputId": "e219d12d-bb80-4d15-dc5f-b5eb46041d62"
      },
      "execution_count": null,
      "outputs": [
        {
          "output_type": "execute_result",
          "data": {
            "text/plain": [
              "0.5974916979084206"
            ]
          },
          "metadata": {},
          "execution_count": 8
        }
      ]
    },
    {
      "cell_type": "code",
      "source": [
        "select_labels = label_counts['labels'].tolist()[:10]\n",
        "select_labels"
      ],
      "metadata": {
        "colab": {
          "base_uri": "https://localhost:8080/"
        },
        "id": "PWHEDTqbBKey",
        "outputId": "175e5ee0-f51c-4780-ccff-dfaf540541d5"
      },
      "execution_count": null,
      "outputs": [
        {
          "output_type": "execute_result",
          "data": {
            "text/plain": [
              "['POLITICS',\n",
              " 'WELLNESS',\n",
              " 'ENTERTAINMENT',\n",
              " 'TRAVEL',\n",
              " 'STYLE & BEAUTY',\n",
              " 'PARENTING',\n",
              " 'HEALTHY LIVING',\n",
              " 'QUEER VOICES',\n",
              " 'FOOD & DRINK',\n",
              " 'BUSINESS']"
            ]
          },
          "metadata": {},
          "execution_count": 5
        }
      ]
    },
    {
      "cell_type": "code",
      "source": [
        "# select top 10 labels with most counts\n",
        "df = df[df['category'].isin(select_labels)]"
      ],
      "metadata": {
        "id": "92EEdcHMBrrG"
      },
      "execution_count": null,
      "outputs": []
    },
    {
      "cell_type": "code",
      "execution_count": null,
      "metadata": {
        "colab": {
          "base_uri": "https://localhost:8080/"
        },
        "id": "m0hgFNU4OoXL",
        "outputId": "be3b3cf2-b9ea-44dc-84af-99b516192520"
      },
      "outputs": [
        {
          "output_type": "stream",
          "name": "stdout",
          "text": [
            "{0: 'BUSINESS', 1: 'ENTERTAINMENT', 2: 'FOOD & DRINK', 3: 'HEALTHY LIVING', 4: 'PARENTING', 5: 'POLITICS', 6: 'QUEER VOICES', 7: 'STYLE & BEAUTY', 8: 'TRAVEL', 9: 'WELLNESS'}\n"
          ]
        }
      ],
      "source": [
        "# code the labels\n",
        "c = df.category.astype('category')\n",
        "d = dict(enumerate(c.cat.categories))\n",
        "print(d)"
      ]
    },
    {
      "cell_type": "code",
      "execution_count": null,
      "metadata": {
        "id": "TpdAim96OoXM"
      },
      "outputs": [],
      "source": [
        "df['label'] = df.category.astype('category').cat.codes"
      ]
    },
    {
      "cell_type": "code",
      "execution_count": null,
      "metadata": {
        "colab": {
          "base_uri": "https://localhost:8080/",
          "height": 354
        },
        "id": "BxphYHwoOoXM",
        "outputId": "39164f4a-34cc-4f59-a752-b24a83a01e85"
      },
      "outputs": [
        {
          "output_type": "execute_result",
          "data": {
            "text/plain": [
              "    index        category                                           headline  \\\n",
              "0   63279  HEALTHY LIVING  Mark Tuballas' GPS Guide For De-Stressing Befo...   \n",
              "1   22438        POLITICS  Mike Pence: The Servile Schemer Who Would Be P...   \n",
              "5   52384        POLITICS  Progressive Congressman Warns Against ‘Bernie ...   \n",
              "6  124908        POLITICS          What Democrats Must Do to Win in November   \n",
              "7  173704          TRAVEL                       Finding An Affordable Safari   \n",
              "\n",
              "                                             authors  \\\n",
              "0                    GPS Guides, The Huffington Post   \n",
              "1        Richard North Patterson, ColumnistColumnist   \n",
              "5                                 Laura Barrón-López   \n",
              "6  James Zogby, ContributorPresident, Arab Americ...   \n",
              "7  Elizabeth Gordon, Contributor\\nFounder of Extr...   \n",
              "\n",
              "                                                link  \\\n",
              "0  https://www.huffingtonpost.com/entry/mark-tuba...   \n",
              "1  https://www.huffingtonpost.com/entry/mike-penc...   \n",
              "5  https://www.huffingtonpost.com/entry/keith-ell...   \n",
              "6  https://www.huffingtonpost.com/entry/what-demo...   \n",
              "7  https://www.huffingtonpost.com/entry/affordabl...   \n",
              "\n",
              "                                   short_description       date  label  \n",
              "0                           Get a good night's rest. 2016-03-23      3  \n",
              "1  Previously published on Boston Globe. On the e... 2017-07-03      5  \n",
              "5  \"The Ku Klux Klan thinks Donald Trump would be... 2016-07-26      5  \n",
              "6  This November, Democrats will have chance to r... 2014-04-19      5  \n",
              "7  You can get the experience you have seen on Na... 2012-11-15      8  "
            ],
            "text/html": [
              "\n",
              "  <div id=\"df-f041dfc5-3966-4304-8833-2e9169cdcd1d\">\n",
              "    <div class=\"colab-df-container\">\n",
              "      <div>\n",
              "<style scoped>\n",
              "    .dataframe tbody tr th:only-of-type {\n",
              "        vertical-align: middle;\n",
              "    }\n",
              "\n",
              "    .dataframe tbody tr th {\n",
              "        vertical-align: top;\n",
              "    }\n",
              "\n",
              "    .dataframe thead th {\n",
              "        text-align: right;\n",
              "    }\n",
              "</style>\n",
              "<table border=\"1\" class=\"dataframe\">\n",
              "  <thead>\n",
              "    <tr style=\"text-align: right;\">\n",
              "      <th></th>\n",
              "      <th>index</th>\n",
              "      <th>category</th>\n",
              "      <th>headline</th>\n",
              "      <th>authors</th>\n",
              "      <th>link</th>\n",
              "      <th>short_description</th>\n",
              "      <th>date</th>\n",
              "      <th>label</th>\n",
              "    </tr>\n",
              "  </thead>\n",
              "  <tbody>\n",
              "    <tr>\n",
              "      <th>0</th>\n",
              "      <td>63279</td>\n",
              "      <td>HEALTHY LIVING</td>\n",
              "      <td>Mark Tuballas' GPS Guide For De-Stressing Befo...</td>\n",
              "      <td>GPS Guides, The Huffington Post</td>\n",
              "      <td>https://www.huffingtonpost.com/entry/mark-tuba...</td>\n",
              "      <td>Get a good night's rest.</td>\n",
              "      <td>2016-03-23</td>\n",
              "      <td>3</td>\n",
              "    </tr>\n",
              "    <tr>\n",
              "      <th>1</th>\n",
              "      <td>22438</td>\n",
              "      <td>POLITICS</td>\n",
              "      <td>Mike Pence: The Servile Schemer Who Would Be P...</td>\n",
              "      <td>Richard North Patterson, ColumnistColumnist</td>\n",
              "      <td>https://www.huffingtonpost.com/entry/mike-penc...</td>\n",
              "      <td>Previously published on Boston Globe. On the e...</td>\n",
              "      <td>2017-07-03</td>\n",
              "      <td>5</td>\n",
              "    </tr>\n",
              "    <tr>\n",
              "      <th>5</th>\n",
              "      <td>52384</td>\n",
              "      <td>POLITICS</td>\n",
              "      <td>Progressive Congressman Warns Against ‘Bernie ...</td>\n",
              "      <td>Laura Barrón-López</td>\n",
              "      <td>https://www.huffingtonpost.com/entry/keith-ell...</td>\n",
              "      <td>\"The Ku Klux Klan thinks Donald Trump would be...</td>\n",
              "      <td>2016-07-26</td>\n",
              "      <td>5</td>\n",
              "    </tr>\n",
              "    <tr>\n",
              "      <th>6</th>\n",
              "      <td>124908</td>\n",
              "      <td>POLITICS</td>\n",
              "      <td>What Democrats Must Do to Win in November</td>\n",
              "      <td>James Zogby, ContributorPresident, Arab Americ...</td>\n",
              "      <td>https://www.huffingtonpost.com/entry/what-demo...</td>\n",
              "      <td>This November, Democrats will have chance to r...</td>\n",
              "      <td>2014-04-19</td>\n",
              "      <td>5</td>\n",
              "    </tr>\n",
              "    <tr>\n",
              "      <th>7</th>\n",
              "      <td>173704</td>\n",
              "      <td>TRAVEL</td>\n",
              "      <td>Finding An Affordable Safari</td>\n",
              "      <td>Elizabeth Gordon, Contributor\\nFounder of Extr...</td>\n",
              "      <td>https://www.huffingtonpost.com/entry/affordabl...</td>\n",
              "      <td>You can get the experience you have seen on Na...</td>\n",
              "      <td>2012-11-15</td>\n",
              "      <td>8</td>\n",
              "    </tr>\n",
              "  </tbody>\n",
              "</table>\n",
              "</div>\n",
              "      <button class=\"colab-df-convert\" onclick=\"convertToInteractive('df-f041dfc5-3966-4304-8833-2e9169cdcd1d')\"\n",
              "              title=\"Convert this dataframe to an interactive table.\"\n",
              "              style=\"display:none;\">\n",
              "        \n",
              "  <svg xmlns=\"http://www.w3.org/2000/svg\" height=\"24px\"viewBox=\"0 0 24 24\"\n",
              "       width=\"24px\">\n",
              "    <path d=\"M0 0h24v24H0V0z\" fill=\"none\"/>\n",
              "    <path d=\"M18.56 5.44l.94 2.06.94-2.06 2.06-.94-2.06-.94-.94-2.06-.94 2.06-2.06.94zm-11 1L8.5 8.5l.94-2.06 2.06-.94-2.06-.94L8.5 2.5l-.94 2.06-2.06.94zm10 10l.94 2.06.94-2.06 2.06-.94-2.06-.94-.94-2.06-.94 2.06-2.06.94z\"/><path d=\"M17.41 7.96l-1.37-1.37c-.4-.4-.92-.59-1.43-.59-.52 0-1.04.2-1.43.59L10.3 9.45l-7.72 7.72c-.78.78-.78 2.05 0 2.83L4 21.41c.39.39.9.59 1.41.59.51 0 1.02-.2 1.41-.59l7.78-7.78 2.81-2.81c.8-.78.8-2.07 0-2.86zM5.41 20L4 18.59l7.72-7.72 1.47 1.35L5.41 20z\"/>\n",
              "  </svg>\n",
              "      </button>\n",
              "      \n",
              "  <style>\n",
              "    .colab-df-container {\n",
              "      display:flex;\n",
              "      flex-wrap:wrap;\n",
              "      gap: 12px;\n",
              "    }\n",
              "\n",
              "    .colab-df-convert {\n",
              "      background-color: #E8F0FE;\n",
              "      border: none;\n",
              "      border-radius: 50%;\n",
              "      cursor: pointer;\n",
              "      display: none;\n",
              "      fill: #1967D2;\n",
              "      height: 32px;\n",
              "      padding: 0 0 0 0;\n",
              "      width: 32px;\n",
              "    }\n",
              "\n",
              "    .colab-df-convert:hover {\n",
              "      background-color: #E2EBFA;\n",
              "      box-shadow: 0px 1px 2px rgba(60, 64, 67, 0.3), 0px 1px 3px 1px rgba(60, 64, 67, 0.15);\n",
              "      fill: #174EA6;\n",
              "    }\n",
              "\n",
              "    [theme=dark] .colab-df-convert {\n",
              "      background-color: #3B4455;\n",
              "      fill: #D2E3FC;\n",
              "    }\n",
              "\n",
              "    [theme=dark] .colab-df-convert:hover {\n",
              "      background-color: #434B5C;\n",
              "      box-shadow: 0px 1px 3px 1px rgba(0, 0, 0, 0.15);\n",
              "      filter: drop-shadow(0px 1px 2px rgba(0, 0, 0, 0.3));\n",
              "      fill: #FFFFFF;\n",
              "    }\n",
              "  </style>\n",
              "\n",
              "      <script>\n",
              "        const buttonEl =\n",
              "          document.querySelector('#df-f041dfc5-3966-4304-8833-2e9169cdcd1d button.colab-df-convert');\n",
              "        buttonEl.style.display =\n",
              "          google.colab.kernel.accessAllowed ? 'block' : 'none';\n",
              "\n",
              "        async function convertToInteractive(key) {\n",
              "          const element = document.querySelector('#df-f041dfc5-3966-4304-8833-2e9169cdcd1d');\n",
              "          const dataTable =\n",
              "            await google.colab.kernel.invokeFunction('convertToInteractive',\n",
              "                                                     [key], {});\n",
              "          if (!dataTable) return;\n",
              "\n",
              "          const docLinkHtml = 'Like what you see? Visit the ' +\n",
              "            '<a target=\"_blank\" href=https://colab.research.google.com/notebooks/data_table.ipynb>data table notebook</a>'\n",
              "            + ' to learn more about interactive tables.';\n",
              "          element.innerHTML = '';\n",
              "          dataTable['output_type'] = 'display_data';\n",
              "          await google.colab.output.renderOutput(dataTable, element);\n",
              "          const docLink = document.createElement('div');\n",
              "          docLink.innerHTML = docLinkHtml;\n",
              "          element.appendChild(docLink);\n",
              "        }\n",
              "      </script>\n",
              "    </div>\n",
              "  </div>\n",
              "  "
            ]
          },
          "metadata": {},
          "execution_count": 9
        }
      ],
      "source": [
        "df.head()"
      ]
    },
    {
      "cell_type": "code",
      "execution_count": null,
      "metadata": {
        "colab": {
          "base_uri": "https://localhost:8080/"
        },
        "id": "i9EE05O5OoXN",
        "outputId": "1bcbc69f-99fa-4221-d07c-f8377834c414"
      },
      "outputs": [
        {
          "output_type": "execute_result",
          "data": {
            "text/plain": [
              "10"
            ]
          },
          "metadata": {},
          "execution_count": 10
        }
      ],
      "source": [
        "K = len(set(df['label'].tolist()))\n",
        "K"
      ]
    },
    {
      "cell_type": "markdown",
      "source": [
        "### Merge headline and short description to form text"
      ],
      "metadata": {
        "id": "z6nMX-q2Onuj"
      }
    },
    {
      "cell_type": "code",
      "source": [
        "df['text'] = df['headline'] +'. ' +df['short_description']"
      ],
      "metadata": {
        "id": "gydfuNvJO0-_"
      },
      "execution_count": null,
      "outputs": []
    },
    {
      "cell_type": "markdown",
      "metadata": {
        "id": "QJLB6nMGOoXN"
      },
      "source": [
        "### Split into train and test set"
      ]
    },
    {
      "cell_type": "code",
      "execution_count": null,
      "metadata": {
        "id": "r0s0wfy-OoXN"
      },
      "outputs": [],
      "source": [
        "# M = 30000  # Colab provides limited GPU time (be mindful when increasing this number) \n",
        "df_train, df_test = train_test_split(df, test_size=0.2)\n",
        "# df_train = df_train.sample(frac=1).reset_index(drop=True)[:int(0.8 * M)]\n",
        "# df_test = df_test.sample(frac=1).reset_index(drop=True)[:(int(0.2 * M))]"
      ]
    },
    {
      "cell_type": "code",
      "source": [
        "print(len(df_train), len(df_test))"
      ],
      "metadata": {
        "colab": {
          "base_uri": "https://localhost:8080/"
        },
        "id": "7YzhL-zLQECU",
        "outputId": "9c5c02a0-04d0-426b-a912-9929e7d3e9d1"
      },
      "execution_count": null,
      "outputs": [
        {
          "output_type": "stream",
          "name": "stdout",
          "text": [
            "96006 24002\n"
          ]
        }
      ]
    },
    {
      "cell_type": "code",
      "execution_count": null,
      "metadata": {
        "colab": {
          "base_uri": "https://localhost:8080/",
          "height": 317
        },
        "id": "FHq_RjvuOoXN",
        "outputId": "776ad385-4a3c-4e42-f780-0d62be9c74bd"
      },
      "outputs": [
        {
          "output_type": "execute_result",
          "data": {
            "text/plain": [
              "array([[<matplotlib.axes._subplots.AxesSubplot object at 0x7f1fd7fc3190>]],\n",
              "      dtype=object)"
            ]
          },
          "metadata": {},
          "execution_count": 14
        },
        {
          "output_type": "display_data",
          "data": {
            "text/plain": [
              "<Figure size 432x288 with 1 Axes>"
            ],
            "image/png": "[encoded data removed]"
          },
          "metadata": {
            "needs_background": "light"
          }
        }
      ],
      "source": [
        "# Train label distribution\n",
        "df_train.hist(column='label')"
      ]
    },
    {
      "cell_type": "code",
      "execution_count": null,
      "metadata": {
        "colab": {
          "base_uri": "https://localhost:8080/",
          "height": 317
        },
        "id": "9ouCA4ufOoXO",
        "outputId": "d0ecace3-302d-46f5-ffba-cf82d3bd7cf9"
      },
      "outputs": [
        {
          "output_type": "execute_result",
          "data": {
            "text/plain": [
              "array([[<matplotlib.axes._subplots.AxesSubplot object at 0x7f1febcbbd90>]],\n",
              "      dtype=object)"
            ]
          },
          "metadata": {},
          "execution_count": 15
        },
        {
          "output_type": "display_data",
          "data": {
            "text/plain": [
              "<Figure size 432x288 with 1 Axes>"
            ],
            "image/png": "[encoded data removed]"
          },
          "metadata": {
            "needs_background": "light"
          }
        }
      ],
      "source": [
        "# Test label distribution\n",
        "df_test.hist(column='label')"
      ]
    },
    {
      "cell_type": "markdown",
      "metadata": {
        "id": "3sh9yVHvOoXO"
      },
      "source": [
        "### Text length distribution based on words"
      ]
    },
    {
      "cell_type": "code",
      "execution_count": null,
      "metadata": {
        "id": "K3m0fOqxOoXO"
      },
      "outputs": [],
      "source": [
        "import matplotlib.pyplot as plt\n",
        "\n",
        "def compute_length(doc):\n",
        "    \"\"\"Compute lengths of sentences in a doc.\"\"\"\n",
        "    words = doc.split()\n",
        "    return len(words)"
      ]
    },
    {
      "cell_type": "code",
      "execution_count": null,
      "metadata": {
        "colab": {
          "base_uri": "https://localhost:8080/",
          "height": 265
        },
        "id": "WA4z-PLPOoXO",
        "outputId": "3a9f031a-a374-4431-c2df-2b4f4d5f446a"
      },
      "outputs": [
        {
          "output_type": "display_data",
          "data": {
            "text/plain": [
              "<Figure size 432x288 with 1 Axes>"
            ],
            "image/png": "[encoded data removed]"
          },
          "metadata": {
            "needs_background": "light"
          }
        }
      ],
      "source": [
        "# Distribution of text length\n",
        "lengths_train = []\n",
        "for doc in df_train['text']:\n",
        "    lengths_train.append(compute_length(doc))\n",
        "\n",
        "plt.hist(lengths_train)  # train\n",
        "plt.show()"
      ]
    },
    {
      "cell_type": "code",
      "execution_count": null,
      "metadata": {
        "colab": {
          "base_uri": "https://localhost:8080/",
          "height": 265
        },
        "id": "aPFfIVF1OoXP",
        "outputId": "e9a7a135-6b4c-4512-9d85-1dd1f6ccf246"
      },
      "outputs": [
        {
          "output_type": "display_data",
          "data": {
            "text/plain": [
              "<Figure size 432x288 with 1 Axes>"
            ],
            "image/png": "[encoded data removed]"
          },
          "metadata": {
            "needs_background": "light"
          }
        }
      ],
      "source": [
        "# Distribution of text length\n",
        "lengths_test = []\n",
        "for doc in df_test['text']:\n",
        "    lengths_test.append(compute_length(doc))\n",
        "\n",
        "plt.hist(lengths_test)  # test\n",
        "plt.show()"
      ]
    },
    {
      "cell_type": "markdown",
      "metadata": {
        "id": "MSoYO_fHOoXP"
      },
      "source": [
        "## Train Bert\n",
        "\n",
        "This section uses Google CoLab, which provides free (but limited) use of hosted GPU instances.."
      ]
    },
    {
      "cell_type": "markdown",
      "metadata": {
        "id": "BgfIEs7rOoXP"
      },
      "source": [
        "### Install Packages"
      ]
    },
    {
      "cell_type": "code",
      "execution_count": null,
      "metadata": {
        "id": "HJR0cf3DOoXP",
        "colab": {
          "base_uri": "https://localhost:8080/"
        },
        "outputId": "36eae15d-287d-4ab0-88a6-4052208db43d"
      },
      "outputs": [
        {
          "output_type": "stream",
          "name": "stdout",
          "text": [
            "\u001b[K     |████████████████████████████████| 5.8 MB 33.3 MB/s \n",
            "\u001b[K     |████████████████████████████████| 7.6 MB 63.5 MB/s \n",
            "\u001b[K     |████████████████████████████████| 182 kB 67.5 MB/s \n",
            "\u001b[?25h"
          ]
        }
      ],
      "source": [
        "!pip install -q transformers torch"
      ]
    },
    {
      "cell_type": "markdown",
      "metadata": {
        "id": "jO9ScufTOoXQ"
      },
      "source": [
        "### Training Hyperparameters"
      ]
    },
    {
      "cell_type": "code",
      "execution_count": null,
      "metadata": {
        "id": "H8BFBglhOoXQ"
      },
      "outputs": [],
      "source": [
        "batch_size = 32\n",
        "epochs = 2\n",
        "lr_init = 1e-5\n",
        "max_len = 128\n",
        "warmup_steps = 3"
      ]
    },
    {
      "cell_type": "markdown",
      "metadata": {
        "id": "yEelaSksOoXQ"
      },
      "source": [
        "### Create batched inputs using Huggingface's BERT tokenizer"
      ]
    },
    {
      "cell_type": "code",
      "execution_count": null,
      "metadata": {
        "id": "NE2NQLF3OoXQ",
        "colab": {
          "base_uri": "https://localhost:8080/",
          "height": 145,
          "referenced_widgets": [
            "6b46d8a62dd84b50beb783cafb7aa5c5",
            "f8e470861cec4a8aa24bbb624ec4c1e2",
            "e6d197eeb35a4f0aa3ce16fa3dcb02ce",
            "c6939645e6c2410d95e77487fa5ce55b",
            "0a51c95423744312b0270f7fa8c62eb8",
            "fa45978f6b1d4f7a805ac5a6ddff46bc",
            "f732c735d42345009a65ab6a8fa16d5d",
            "f49358730518456d8b9f3321fd0b5297",
            "b21edc0fd2364296a879903aa4bc02c7",
            "7ef7f072919546738e4c49f02c63946f",
            "e136eff03d274f92ac2b89cc299cf008",
            "eb0cc8fe152c4d5499c28858e3cf8322",
            "ad5b0b7424c04c7ba584a8377bf9174a",
            "69355a34eb2b43e3b6fa7a18d8431f1d",
            "b3842e1305e4492aa8a484dc65a369c3",
            "52c1df077f8946269b940e1250237406",
            "9410c0162b5143ecb2c78dcb79771a02",
            "fd085e737c5d4c4ca24c80624092a556",
            "b5bdb1c2884448378e23464f37d0efcb",
            "4bfcdf7268f54d2da133839ab5f18a31",
            "9c5b2e7241424a5c95f85a0541c9f607",
            "a77bf95bd3924d89b12ab71950e9dc42",
            "1bab30de996d4a469cb18130a38df003",
            "d520326910b1481a9a0f3535fdab605e",
            "bb4ffa080c474694b030dd68cb1ca3d0",
            "79522058cfa34b38a5cf1ab296dad3b3",
            "e56a7ec41445432d9d37de12bbeaadf1",
            "687e2fd812fd487f978452589a24465c",
            "9c3f7fadb5f54781b2b1f823b7024d0c",
            "9951f20f93054d8eb0e024f3b88305bf",
            "2b78162cbf364288bd6fcdac8e5adb91",
            "8b5af62bfa714719989587f4269eda95",
            "df0aa67da9c54baa8c48c4444dcb8df7",
            "eced9c06e4934a5fb58925ac8d70c516",
            "80f3a8530bd54a0eb44a0bf65f083863",
            "d759898e682d48c9a686ac6c025d2ffd",
            "151100b232d14ba0bf3d242131617fdb",
            "5515d3ed28684931b22fa1013376be17",
            "e62383c8516f4633af12e5d6d2148aa5",
            "39a7bf2329764db7bc77c475e3f8c692",
            "c75eebc6262b475f9dcad47b1c0de714",
            "162cc14e246d4fd8b5c1c7f30417b3c1",
            "b1a0266f2d524340b4eb4a69c6bd7af0",
            "a5aa65a69bf24a079e633dd326f2b479"
          ]
        },
        "outputId": "a60f8c06-ca88-4cf4-fcfa-207edebd26e3"
      },
      "outputs": [
        {
          "output_type": "display_data",
          "data": {
            "text/plain": [
              "Downloading:   0%|          | 0.00/29.0 [00:00<?, ?B/s]"
            ],
            "application/vnd.jupyter.widget-view+json": {
              "version_major": 2,
              "version_minor": 0,
              "model_id": "6b46d8a62dd84b50beb783cafb7aa5c5"
            }
          },
          "metadata": {}
        },
        {
          "output_type": "display_data",
          "data": {
            "text/plain": [
              "Downloading:   0%|          | 0.00/213k [00:00<?, ?B/s]"
            ],
            "application/vnd.jupyter.widget-view+json": {
              "version_major": 2,
              "version_minor": 0,
              "model_id": "eb0cc8fe152c4d5499c28858e3cf8322"
            }
          },
          "metadata": {}
        },
        {
          "output_type": "display_data",
          "data": {
            "text/plain": [
              "Downloading:   0%|          | 0.00/436k [00:00<?, ?B/s]"
            ],
            "application/vnd.jupyter.widget-view+json": {
              "version_major": 2,
              "version_minor": 0,
              "model_id": "1bab30de996d4a469cb18130a38df003"
            }
          },
          "metadata": {}
        },
        {
          "output_type": "display_data",
          "data": {
            "text/plain": [
              "Downloading:   0%|          | 0.00/570 [00:00<?, ?B/s]"
            ],
            "application/vnd.jupyter.widget-view+json": {
              "version_major": 2,
              "version_minor": 0,
              "model_id": "eced9c06e4934a5fb58925ac8d70c516"
            }
          },
          "metadata": {}
        }
      ],
      "source": [
        "from typing import List, Tuple\n",
        "import torch\n",
        "from transformers import BertTokenizerFast\n",
        "from transformers.tokenization_utils_base import BatchEncoding\n",
        "\n",
        "tokenizer = BertTokenizerFast.from_pretrained('bert-base-cased')"
      ]
    },
    {
      "cell_type": "code",
      "execution_count": null,
      "metadata": {
        "id": "fKk3QfwdOoXQ"
      },
      "outputs": [],
      "source": [
        "def batch_data(data: pd.DataFrame, bsize: int) -> List[Tuple[BatchEncoding, List[int], List[str]]]:\n",
        "    \"\"\"\n",
        "    This Function accepts a Pandas DataFrame and a batch size and returns\n",
        "    a list of training 'batches', each of which is a tuple of:\n",
        "        ( X, Y, s )\n",
        "    where\n",
        "        X: BatchEncoding ∈ R^(`bsize` x `T_max` x `D`)    inputs\n",
        "        Y: torch.Tensor ∈ Z^(`bsize` x `1`)               ground truth labels\n",
        "        s: List[str] w/ len `bsize`                       headlines (i.e., documents)\n",
        "    \"\"\"\n",
        "    result = []\n",
        "    for i in range(0, len(data), bsize):\n",
        "        s = data[i : i + bsize][\"text\"].tolist()  # get the text\n",
        "        X = tokenizer.batch_encode_plus(batch_text_or_text_pairs = s, truncation=True, padding='max_length', max_length=max_len)  # inputs\n",
        "        Y = data[i : i + bsize][\"label\"].tolist()  # ground truth labels\n",
        "        result.append((X, Y, s))\n",
        "    return result"
      ]
    },
    {
      "cell_type": "code",
      "execution_count": null,
      "metadata": {
        "id": "hbSNGeeVOoXX"
      },
      "outputs": [],
      "source": [
        "train_batches = batch_data(df_train, bsize=batch_size)\n",
        "test_batches = batch_data(df_test, bsize=batch_size)"
      ]
    },
    {
      "cell_type": "markdown",
      "metadata": {
        "id": "r6ZeUqdFOoXX"
      },
      "source": [
        "### Load pretrained Bert model"
      ]
    },
    {
      "cell_type": "code",
      "execution_count": null,
      "metadata": {
        "colab": {
          "base_uri": "https://localhost:8080/",
          "height": 194,
          "referenced_widgets": [
            "ff14510b9e2c48e58f8afa157cfe3bd6",
            "1779d85196ec47a794d76721320dc68b",
            "285e44db3cd94cd0801bd7b8fd2eb16d",
            "7ebf01b30a8f42a28b4a0c4489261987",
            "f0ec0f8fb6134849ba4d93f3ccdc9fe6",
            "e8a09b81b2b64b87ae1970663575e5d6",
            "30a554ab4eca4dae88c01ed849429ea3",
            "e4b2f7e382d641e8b5aed722925e2129",
            "1ad45b8056b44e2c809e7cc33d701c88",
            "d70c0b34a9d54c068833a501320a1095",
            "6d52f513f94d403da0bcf8a4f5ee301d"
          ]
        },
        "id": "vbonQ_hxOoXX",
        "outputId": "e4d29c94-b83d-440c-95ab-62a87f531cbd"
      },
      "outputs": [
        {
          "output_type": "display_data",
          "data": {
            "text/plain": [
              "Downloading:   0%|          | 0.00/436M [00:00<?, ?B/s]"
            ],
            "application/vnd.jupyter.widget-view+json": {
              "version_major": 2,
              "version_minor": 0,
              "model_id": "ff14510b9e2c48e58f8afa157cfe3bd6"
            }
          },
          "metadata": {}
        },
        {
          "output_type": "stream",
          "name": "stderr",
          "text": [
            "Some weights of the model checkpoint at bert-base-cased were not used when initializing BertForSequenceClassification: ['cls.predictions.transform.LayerNorm.weight', 'cls.seq_relationship.weight', 'cls.predictions.decoder.weight', 'cls.predictions.transform.dense.bias', 'cls.predictions.transform.dense.weight', 'cls.predictions.transform.LayerNorm.bias', 'cls.predictions.bias', 'cls.seq_relationship.bias']\n",
            "- This IS expected if you are initializing BertForSequenceClassification from the checkpoint of a model trained on another task or with another architecture (e.g. initializing a BertForSequenceClassification model from a BertForPreTraining model).\n",
            "- This IS NOT expected if you are initializing BertForSequenceClassification from the checkpoint of a model that you expect to be exactly identical (initializing a BertForSequenceClassification model from a BertForSequenceClassification model).\n",
            "Some weights of BertForSequenceClassification were not initialized from the model checkpoint at bert-base-cased and are newly initialized: ['classifier.bias', 'classifier.weight']\n",
            "You should probably TRAIN this model on a down-stream task to be able to use it for predictions and inference.\n",
            "/usr/local/lib/python3.8/dist-packages/transformers/optimization.py:306: FutureWarning: This implementation of AdamW is deprecated and will be removed in a future version. Use the PyTorch implementation torch.optim.AdamW instead, or set `no_deprecation_warning=True` to disable this warning\n",
            "  warnings.warn(\n"
          ]
        }
      ],
      "source": [
        "from tqdm import tqdm\n",
        "import torch\n",
        "from transformers import BertForSequenceClassification, \\\n",
        "  AdamW, get_linear_schedule_with_warmup\n",
        "\n",
        "# Transformer model\n",
        "model = BertForSequenceClassification.from_pretrained(\n",
        "    'bert-base-cased', \n",
        "    num_labels=K, \n",
        "    output_hidden_states=True)\n",
        "\n",
        "# The torch `device` on which to execute the model computation\n",
        "if torch.cuda.is_available():\n",
        "    device = torch.device('cuda:0') # GPU\n",
        "else:\n",
        "    device = torch.device('cpu') # CPU\n",
        "model.to(device)\n",
        "\n",
        "# The gradient descent optimizer used for fine tuning\n",
        "optimizer = AdamW(model.parameters(), lr=lr_init)\n",
        "\n",
        "# The gradient descent learning rate\n",
        "lr = get_linear_schedule_with_warmup(\n",
        "    optimizer, num_warmup_steps=warmup_steps, \n",
        "    num_training_steps=len(train_batches))"
      ]
    },
    {
      "cell_type": "markdown",
      "metadata": {
        "id": "YOLVUqMUOoXY"
      },
      "source": [
        "### Implement a training loop from scratch"
      ]
    },
    {
      "cell_type": "code",
      "source": [
        "# !pip install datasets"
      ],
      "metadata": {
        "id": "iAKDXi7WRqWf"
      },
      "execution_count": null,
      "outputs": []
    },
    {
      "cell_type": "code",
      "execution_count": null,
      "metadata": {
        "id": "Hh6V5xLzOoXY"
      },
      "outputs": [],
      "source": [
        "from datasets import load_metric\n",
        "\n",
        "def runner(batches, desc: str, train=True):\n",
        "    \"\"\"\n",
        "    This function accepts a list of batches (i.e., the output of batch_data())\n",
        "    and returns a tuple consisting of:\n",
        "        (predictions, cls-embeddings, mean-loss, accuracy, f1-score)\n",
        "    where\n",
        "        preditions: List[pred for each input]\n",
        "        cls-embeddings: List[bert's cls embeddings for each input]\n",
        "        mean-loss: mean loss computed over data in batches\n",
        "        mean-accuracy: mean accuracy computed over data in batches\n",
        "        mean-f1-score: mean f1 score computed over data in batches\n",
        "    \"\"\"\n",
        "    grad_mode = torch.enable_grad if train else torch.no_grad\n",
        "    preds = []\n",
        "\n",
        "    mean_loss = []\n",
        "    mean_accuracy = []\n",
        "    mean_f1_score = []\n",
        "\n",
        "    if train:\n",
        "        model.train()\n",
        "    else:\n",
        "        model.eval()\n",
        "\n",
        "    for epoch in range(epochs if train else 1):\n",
        "        \n",
        "        acc = load_metric(\"accuracy\", keep_in_memory=True)\n",
        "        f1 = load_metric(\"f1\", keep_in_memory=True)\n",
        "        cumloss = 0.0\n",
        "        embeds = []\n",
        "        \n",
        "        with tqdm(total=len(batches)) as bar:\n",
        "\n",
        "            for i, batch in enumerate(batches):\n",
        "                X, Y, _ = batch\n",
        "                inputs = torch.tensor(X['input_ids'], device=device)\n",
        "                attmsk = torch.tensor(X['attention_mask'], device=device)\n",
        "                labels = torch.tensor(Y, device=device)\n",
        "                batch = {'input_ids': inputs,\n",
        "                         'attention_mask': attmsk,\n",
        "                         'labels': labels}\n",
        "                with grad_mode():\n",
        "                    outputs = model(**batch)\n",
        "                    embeds.append(outputs[-1][1][:, 0, :].squeeze().detach().cpu())  # only take CLS tokens\n",
        "                    loss = outputs.loss\n",
        "                    if train:\n",
        "                        loss.backward()  # Back Propagation\n",
        "                        optimizer.step()  # update optimizer (Gardient Descent)\n",
        "                        lr.step()  # update learning rate\n",
        "                        optimizer.zero_grad()  # clears old gradients from the last step\n",
        "                    logits = outputs.logits\n",
        "                    Yhat = torch.argmax(logits, dim=-1) # perform on last dimension\n",
        "                    preds.append(Yhat)\n",
        "                    cumloss += loss.clone().detach().cpu().item()\n",
        "                    acc.add_batch(predictions=Yhat, references=Y)\n",
        "                    f1.add_batch(predictions=Yhat, references=Y)\n",
        "\n",
        "                bar.update(1)\n",
        "\n",
        "            epoch_mean_loss = cumloss / (i + 1)\n",
        "            epoch_mean_accuracy = acc.compute()['accuracy']\n",
        "            epoch_mean_f1 = f1.compute(average=\"macro\")['f1']\n",
        "                \n",
        "            bar.set_description('epoch: %s, %s loss: %.3f, f1-score: %.3f, accuracy: %.3f' %\n",
        "                                (epoch + 1, desc,\n",
        "                                 epoch_mean_loss,\n",
        "                                 epoch_mean_f1,\n",
        "                                 epoch_mean_accuracy))\n",
        "\n",
        "            mean_loss.append(epoch_mean_loss)\n",
        "            mean_accuracy.append(epoch_mean_accuracy)\n",
        "            mean_f1_score.append(epoch_mean_f1)\n",
        "     \n",
        "    embeds = torch.cat(embeds, dim=0)\n",
        "\n",
        "    results = (preds, embeds, mean_loss, mean_accuracy, mean_f1_score)\n",
        "        \n",
        "    return results"
      ]
    },
    {
      "cell_type": "code",
      "execution_count": null,
      "metadata": {
        "colab": {
          "base_uri": "https://localhost:8080/",
          "height": 172,
          "referenced_widgets": [
            "a0d6862f5ec74bd8a36e8b8ae3a57bb9",
            "177a27604bf345dd852badec3a22eba1",
            "bab52d55863c4386b6b016b7a022725b",
            "25e839cf7f8e486fba637e69198e03e3",
            "0b92fb235c1d442a9b0a81c7fe0d8bb4",
            "304b3f5d280c4efc905e143be20725fb",
            "bb6e857afe3b48e1a24e2a46277158f7",
            "4c181f2d27ff4e0285c0a29ab5afb633",
            "f442a98f6cc04c70a8310d9d40d7752f",
            "37f38fc0a4114c97a60fbf4fbd94b978",
            "a3289e5c6e464d8c93aa16662cfd8407",
            "348bea4dbb3a4340befafd691e3652e1",
            "d33dc015335c45579ac96b1f7ec8806a",
            "bc6d377df0d246d091c11b390527b2b5",
            "59e78e4c2e5946cf8223cdac45d9353c",
            "262fa3903b8146b6a20a4e54d082c091",
            "c2cd70c237004bdeaada49d4da6d7dc0",
            "42ce3611b39543a98202ea17e428417f",
            "3ce387178df24caca8ca7cd0af858b2c",
            "06ff371b74d04e848890cb7cce07695b",
            "55c3f2ebd3e947f7a4a331a8e32aa9ea",
            "72a83b45967e4a10b7896f24fe3a512d"
          ]
        },
        "id": "Bk72PsO9OoXY",
        "outputId": "6b500622-bd42-433d-eb82-d16aae7c8cfa"
      },
      "outputs": [
        {
          "output_type": "stream",
          "name": "stderr",
          "text": [
            "<ipython-input-27-baf702e36b92>:29: FutureWarning: load_metric is deprecated and will be removed in the next major version of datasets. Use 'evaluate.load' instead, from the new library 🤗 Evaluate: https://huggingface.co/docs/evaluate\n",
            "  acc = load_metric(\"accuracy\", keep_in_memory=True)\n"
          ]
        },
        {
          "output_type": "display_data",
          "data": {
            "text/plain": [
              "Downloading builder script:   0%|          | 0.00/1.65k [00:00<?, ?B/s]"
            ],
            "application/vnd.jupyter.widget-view+json": {
              "version_major": 2,
              "version_minor": 0,
              "model_id": "a0d6862f5ec74bd8a36e8b8ae3a57bb9"
            }
          },
          "metadata": {}
        },
        {
          "output_type": "display_data",
          "data": {
            "text/plain": [
              "Downloading builder script:   0%|          | 0.00/2.32k [00:00<?, ?B/s]"
            ],
            "application/vnd.jupyter.widget-view+json": {
              "version_major": 2,
              "version_minor": 0,
              "model_id": "348bea4dbb3a4340befafd691e3652e1"
            }
          },
          "metadata": {}
        },
        {
          "output_type": "stream",
          "name": "stderr",
          "text": [
            "epoch: 1, train loss: 0.618, f1-score: 0.765, accuracy: 0.812: 100%|██████████| 3001/3001 [32:04<00:00,  1.56it/s]\n",
            "epoch: 2, train loss: 0.430, f1-score: 0.834, accuracy: 0.869: 100%|██████████| 3001/3001 [32:01<00:00,  1.56it/s]\n"
          ]
        }
      ],
      "source": [
        "# Train model\n",
        "preds, embeds, mean_loss, accuracy, f1_score = runner(train_batches, 'train', train=True)"
      ]
    },
    {
      "cell_type": "code",
      "execution_count": null,
      "metadata": {
        "colab": {
          "base_uri": "https://localhost:8080/"
        },
        "id": "dMIFlacMOoXY",
        "outputId": "21841feb-0148-4d16-b5d8-8a6cbb98a28c"
      },
      "outputs": [
        {
          "output_type": "stream",
          "name": "stderr",
          "text": [
            "epoch: 1, train loss: 0.397, f1-score: 0.845, accuracy: 0.878: 100%|██████████| 3001/3001 [11:34<00:00,  4.32it/s]\n"
          ]
        }
      ],
      "source": [
        "# Evaluate the model on train set\n",
        "preds, embeds, mean_loss, accuracy, f1_score = runner(train_batches, 'train', train=False)"
      ]
    },
    {
      "cell_type": "code",
      "execution_count": null,
      "metadata": {
        "colab": {
          "base_uri": "https://localhost:8080/"
        },
        "id": "SVS90LYSOoXY",
        "outputId": "b29cdbcf-3b91-48b8-f837-3a660cec328f"
      },
      "outputs": [
        {
          "output_type": "stream",
          "name": "stderr",
          "text": [
            "epoch: 1, test loss: 0.463, f1-score: 0.817, accuracy: 0.854: 100%|██████████| 751/751 [02:53<00:00,  4.32it/s]\n"
          ]
        }
      ],
      "source": [
        "# Evaluate the model on test set\n",
        "preds, embeds, mean_loss, accuracy, f1_score = runner(test_batches, 'test', train=False)"
      ]
    }
  ],
  "metadata": {
    "kernelspec": {
      "display_name": "Python 3.9.12 ('anly-580')",
      "language": "python",
      "name": "python3"
    },
    "language_info": {
      "codemirror_mode": {
        "name": "ipython",
        "version": 3
      },
      "file_extension": ".py",
      "mimetype": "text/x-python",
      "name": "python",
      "nbconvert_exporter": "python",
      "pygments_lexer": "ipython3",
      "version": "3.9.12"
    },
    "orig_nbformat": 4,
    "vscode": {
      "interpreter": {
        "hash": "509c8d3973b544db7caf7a616d2292f6050e7f377584c0c356e1f13ba68d92f4"
      }
    },
    "colab": {
      "provenance": []
    },
    "accelerator": "GPU",
    "gpuClass": "standard",
    "widgets": {
      "application/vnd.jupyter.widget-state+json": {
        "6b46d8a62dd84b50beb783cafb7aa5c5": {
          "model_module": "@jupyter-widgets/controls",
          "model_name": "HBoxModel",
          "model_module_version": "1.5.0",
          "state": {
            "_dom_classes": [],
            "_model_module": "@jupyter-widgets/controls",
            "_model_module_version": "1.5.0",
            "_model_name": "HBoxModel",
            "_view_count": null,
            "_view_module": "@jupyter-widgets/controls",
            "_view_module_version": "1.5.0",
            "_view_name": "HBoxView",
            "box_style": "",
            "children": [
              "IPY_MODEL_f8e470861cec4a8aa24bbb624ec4c1e2",
              "IPY_MODEL_e6d197eeb35a4f0aa3ce16fa3dcb02ce",
              "IPY_MODEL_c6939645e6c2410d95e77487fa5ce55b"
            ],
            "layout": "IPY_MODEL_0a51c95423744312b0270f7fa8c62eb8"
          }
        },
        "f8e470861cec4a8aa24bbb624ec4c1e2": {
          "model_module": "@jupyter-widgets/controls",
          "model_name": "HTMLModel",
          "model_module_version": "1.5.0",
          "state": {
            "_dom_classes": [],
            "_model_module": "@jupyter-widgets/controls",
            "_model_module_version": "1.5.0",
            "_model_name": "HTMLModel",
            "_view_count": null,
            "_view_module": "@jupyter-widgets/controls",
            "_view_module_version": "1.5.0",
            "_view_name": "HTMLView",
            "description": "",
            "description_tooltip": null,
            "layout": "IPY_MODEL_fa45978f6b1d4f7a805ac5a6ddff46bc",
            "placeholder": "​",
            "style": "IPY_MODEL_f732c735d42345009a65ab6a8fa16d5d",
            "value": "Downloading: 100%"
          }
        },
        "e6d197eeb35a4f0aa3ce16fa3dcb02ce": {
          "model_module": "@jupyter-widgets/controls",
          "model_name": "FloatProgressModel",
          "model_module_version": "1.5.0",
          "state": {
            "_dom_classes": [],
            "_model_module": "@jupyter-widgets/controls",
            "_model_module_version": "1.5.0",
            "_model_name": "FloatProgressModel",
            "_view_count": null,
            "_view_module": "@jupyter-widgets/controls",
            "_view_module_version": "1.5.0",
            "_view_name": "ProgressView",
            "bar_style": "success",
            "description": "",
            "description_tooltip": null,
            "layout": "IPY_MODEL_f49358730518456d8b9f3321fd0b5297",
            "max": 29,
            "min": 0,
            "orientation": "horizontal",
            "style": "IPY_MODEL_b21edc0fd2364296a879903aa4bc02c7",
            "value": 29
          }
        },
        "c6939645e6c2410d95e77487fa5ce55b": {
          "model_module": "@jupyter-widgets/controls",
          "model_name": "HTMLModel",
          "model_module_version": "1.5.0",
          "state": {
            "_dom_classes": [],
            "_model_module": "@jupyter-widgets/controls",
            "_model_module_version": "1.5.0",
            "_model_name": "HTMLModel",
            "_view_count": null,
            "_view_module": "@jupyter-widgets/controls",
            "_view_module_version": "1.5.0",
            "_view_name": "HTMLView",
            "description": "",
            "description_tooltip": null,
            "layout": "IPY_MODEL_7ef7f072919546738e4c49f02c63946f",
            "placeholder": "​",
            "style": "IPY_MODEL_e136eff03d274f92ac2b89cc299cf008",
            "value": " 29.0/29.0 [00:00&lt;00:00, 469B/s]"
          }
        },
        "0a51c95423744312b0270f7fa8c62eb8": {
          "model_module": "@jupyter-widgets/base",
          "model_name": "LayoutModel",
          "model_module_version": "1.2.0",
          "state": {
            "_model_module": "@jupyter-widgets/base",
            "_model_module_version": "1.2.0",
            "_model_name": "LayoutModel",
            "_view_count": null,
            "_view_module": "@jupyter-widgets/base",
            "_view_module_version": "1.2.0",
            "_view_name": "LayoutView",
            "align_content": null,
            "align_items": null,
            "align_self": null,
            "border": null,
            "bottom": null,
            "display": null,
            "flex": null,
            "flex_flow": null,
            "grid_area": null,
            "grid_auto_columns": null,
            "grid_auto_flow": null,
            "grid_auto_rows": null,
            "grid_column": null,
            "grid_gap": null,
            "grid_row": null,
            "grid_template_areas": null,
            "grid_template_columns": null,
            "grid_template_rows": null,
            "height": null,
            "justify_content": null,
            "justify_items": null,
            "left": null,
            "margin": null,
            "max_height": null,
            "max_width": null,
            "min_height": null,
            "min_width": null,
            "object_fit": null,
            "object_position": null,
            "order": null,
            "overflow": null,
            "overflow_x": null,
            "overflow_y": null,
            "padding": null,
            "right": null,
            "top": null,
            "visibility": null,
            "width": null
          }
        },
        "fa45978f6b1d4f7a805ac5a6ddff46bc": {
          "model_module": "@jupyter-widgets/base",
          "model_name": "LayoutModel",
          "model_module_version": "1.2.0",
          "state": {
            "_model_module": "@jupyter-widgets/base",
            "_model_module_version": "1.2.0",
            "_model_name": "LayoutModel",
            "_view_count": null,
            "_view_module": "@jupyter-widgets/base",
            "_view_module_version": "1.2.0",
            "_view_name": "LayoutView",
            "align_content": null,
            "align_items": null,
            "align_self": null,
            "border": null,
            "bottom": null,
            "display": null,
            "flex": null,
            "flex_flow": null,
            "grid_area": null,
            "grid_auto_columns": null,
            "grid_auto_flow": null,
            "grid_auto_rows": null,
            "grid_column": null,
            "grid_gap": null,
            "grid_row": null,
            "grid_template_areas": null,
            "grid_template_columns": null,
            "grid_template_rows": null,
            "height": null,
            "justify_content": null,
            "justify_items": null,
            "left": null,
            "margin": null,
            "max_height": null,
            "max_width": null,
            "min_height": null,
            "min_width": null,
            "object_fit": null,
            "object_position": null,
            "order": null,
            "overflow": null,
            "overflow_x": null,
            "overflow_y": null,
            "padding": null,
            "right": null,
            "top": null,
            "visibility": null,
            "width": null
          }
        },
        "f732c735d42345009a65ab6a8fa16d5d": {
          "model_module": "@jupyter-widgets/controls",
          "model_name": "DescriptionStyleModel",
          "model_module_version": "1.5.0",
          "state": {
            "_model_module": "@jupyter-widgets/controls",
            "_model_module_version": "1.5.0",
            "_model_name": "DescriptionStyleModel",
            "_view_count": null,
            "_view_module": "@jupyter-widgets/base",
            "_view_module_version": "1.2.0",
            "_view_name": "StyleView",
            "description_width": ""
          }
        },
        "f49358730518456d8b9f3321fd0b5297": {
          "model_module": "@jupyter-widgets/base",
          "model_name": "LayoutModel",
          "model_module_version": "1.2.0",
          "state": {
            "_model_module": "@jupyter-widgets/base",
            "_model_module_version": "1.2.0",
            "_model_name": "LayoutModel",
            "_view_count": null,
            "_view_module": "@jupyter-widgets/base",
            "_view_module_version": "1.2.0",
            "_view_name": "LayoutView",
            "align_content": null,
            "align_items": null,
            "align_self": null,
            "border": null,
            "bottom": null,
            "display": null,
            "flex": null,
            "flex_flow": null,
            "grid_area": null,
            "grid_auto_columns": null,
            "grid_auto_flow": null,
            "grid_auto_rows": null,
            "grid_column": null,
            "grid_gap": null,
            "grid_row": null,
            "grid_template_areas": null,
            "grid_template_columns": null,
            "grid_template_rows": null,
            "height": null,
            "justify_content": null,
            "justify_items": null,
            "left": null,
            "margin": null,
            "max_height": null,
            "max_width": null,
            "min_height": null,
            "min_width": null,
            "object_fit": null,
            "object_position": null,
            "order": null,
            "overflow": null,
            "overflow_x": null,
            "overflow_y": null,
            "padding": null,
            "right": null,
            "top": null,
            "visibility": null,
            "width": null
          }
        },
        "b21edc0fd2364296a879903aa4bc02c7": {
          "model_module": "@jupyter-widgets/controls",
          "model_name": "ProgressStyleModel",
          "model_module_version": "1.5.0",
          "state": {
            "_model_module": "@jupyter-widgets/controls",
            "_model_module_version": "1.5.0",
            "_model_name": "ProgressStyleModel",
            "_view_count": null,
            "_view_module": "@jupyter-widgets/base",
            "_view_module_version": "1.2.0",
            "_view_name": "StyleView",
            "bar_color": null,
            "description_width": ""
          }
        },
        "7ef7f072919546738e4c49f02c63946f": {
          "model_module": "@jupyter-widgets/base",
          "model_name": "LayoutModel",
          "model_module_version": "1.2.0",
          "state": {
            "_model_module": "@jupyter-widgets/base",
            "_model_module_version": "1.2.0",
            "_model_name": "LayoutModel",
            "_view_count": null,
            "_view_module": "@jupyter-widgets/base",
            "_view_module_version": "1.2.0",
            "_view_name": "LayoutView",
            "align_content": null,
            "align_items": null,
            "align_self": null,
            "border": null,
            "bottom": null,
            "display": null,
            "flex": null,
            "flex_flow": null,
            "grid_area": null,
            "grid_auto_columns": null,
            "grid_auto_flow": null,
            "grid_auto_rows": null,
            "grid_column": null,
            "grid_gap": null,
            "grid_row": null,
            "grid_template_areas": null,
            "grid_template_columns": null,
            "grid_template_rows": null,
            "height": null,
            "justify_content": null,
            "justify_items": null,
            "left": null,
            "margin": null,
            "max_height": null,
            "max_width": null,
            "min_height": null,
            "min_width": null,
            "object_fit": null,
            "object_position": null,
            "order": null,
            "overflow": null,
            "overflow_x": null,
            "overflow_y": null,
            "padding": null,
            "right": null,
            "top": null,
            "visibility": null,
            "width": null
          }
        },
        "e136eff03d274f92ac2b89cc299cf008": {
          "model_module": "@jupyter-widgets/controls",
          "model_name": "DescriptionStyleModel",
          "model_module_version": "1.5.0",
          "state": {
            "_model_module": "@jupyter-widgets/controls",
            "_model_module_version": "1.5.0",
            "_model_name": "DescriptionStyleModel",
            "_view_count": null,
            "_view_module": "@jupyter-widgets/base",
            "_view_module_version": "1.2.0",
            "_view_name": "StyleView",
            "description_width": ""
          }
        },
        "eb0cc8fe152c4d5499c28858e3cf8322": {
          "model_module": "@jupyter-widgets/controls",
          "model_name": "HBoxModel",
          "model_module_version": "1.5.0",
          "state": {
            "_dom_classes": [],
            "_model_module": "@jupyter-widgets/controls",
            "_model_module_version": "1.5.0",
            "_model_name": "HBoxModel",
            "_view_count": null,
            "_view_module": "@jupyter-widgets/controls",
            "_view_module_version": "1.5.0",
            "_view_name": "HBoxView",
            "box_style": "",
            "children": [
              "IPY_MODEL_ad5b0b7424c04c7ba584a8377bf9174a",
              "IPY_MODEL_69355a34eb2b43e3b6fa7a18d8431f1d",
              "IPY_MODEL_b3842e1305e4492aa8a484dc65a369c3"
            ],
            "layout": "IPY_MODEL_52c1df077f8946269b940e1250237406"
          }
        },
        "ad5b0b7424c04c7ba584a8377bf9174a": {
          "model_module": "@jupyter-widgets/controls",
          "model_name": "HTMLModel",
          "model_module_version": "1.5.0",
          "state": {
            "_dom_classes": [],
            "_model_module": "@jupyter-widgets/controls",
            "_model_module_version": "1.5.0",
            "_model_name": "HTMLModel",
            "_view_count": null,
            "_view_module": "@jupyter-widgets/controls",
            "_view_module_version": "1.5.0",
            "_view_name": "HTMLView",
            "description": "",
            "description_tooltip": null,
            "layout": "IPY_MODEL_9410c0162b5143ecb2c78dcb79771a02",
            "placeholder": "​",
            "style": "IPY_MODEL_fd085e737c5d4c4ca24c80624092a556",
            "value": "Downloading: 100%"
          }
        },
        "69355a34eb2b43e3b6fa7a18d8431f1d": {
          "model_module": "@jupyter-widgets/controls",
          "model_name": "FloatProgressModel",
          "model_module_version": "1.5.0",
          "state": {
            "_dom_classes": [],
            "_model_module": "@jupyter-widgets/controls",
            "_model_module_version": "1.5.0",
            "_model_name": "FloatProgressModel",
            "_view_count": null,
            "_view_module": "@jupyter-widgets/controls",
            "_view_module_version": "1.5.0",
            "_view_name": "ProgressView",
            "bar_style": "success",
            "description": "",
            "description_tooltip": null,
            "layout": "IPY_MODEL_b5bdb1c2884448378e23464f37d0efcb",
            "max": 213450,
            "min": 0,
            "orientation": "horizontal",
            "style": "IPY_MODEL_4bfcdf7268f54d2da133839ab5f18a31",
            "value": 213450
          }
        },
        "b3842e1305e4492aa8a484dc65a369c3": {
          "model_module": "@jupyter-widgets/controls",
          "model_name": "HTMLModel",
          "model_module_version": "1.5.0",
          "state": {
            "_dom_classes": [],
            "_model_module": "@jupyter-widgets/controls",
            "_model_module_version": "1.5.0",
            "_model_name": "HTMLModel",
            "_view_count": null,
            "_view_module": "@jupyter-widgets/controls",
            "_view_module_version": "1.5.0",
            "_view_name": "HTMLView",
            "description": "",
            "description_tooltip": null,
            "layout": "IPY_MODEL_9c5b2e7241424a5c95f85a0541c9f607",
            "placeholder": "​",
            "style": "IPY_MODEL_a77bf95bd3924d89b12ab71950e9dc42",
            "value": " 213k/213k [00:00&lt;00:00, 266kB/s]"
          }
        },
        "52c1df077f8946269b940e1250237406": {
          "model_module": "@jupyter-widgets/base",
          "model_name": "LayoutModel",
          "model_module_version": "1.2.0",
          "state": {
            "_model_module": "@jupyter-widgets/base",
            "_model_module_version": "1.2.0",
            "_model_name": "LayoutModel",
            "_view_count": null,
            "_view_module": "@jupyter-widgets/base",
            "_view_module_version": "1.2.0",
            "_view_name": "LayoutView",
            "align_content": null,
            "align_items": null,
            "align_self": null,
            "border": null,
            "bottom": null,
            "display": null,
            "flex": null,
            "flex_flow": null,
            "grid_area": null,
            "grid_auto_columns": null,
            "grid_auto_flow": null,
            "grid_auto_rows": null,
            "grid_column": null,
            "grid_gap": null,
            "grid_row": null,
            "grid_template_areas": null,
            "grid_template_columns": null,
            "grid_template_rows": null,
            "height": null,
            "justify_content": null,
            "justify_items": null,
            "left": null,
            "margin": null,
            "max_height": null,
            "max_width": null,
            "min_height": null,
            "min_width": null,
            "object_fit": null,
            "object_position": null,
            "order": null,
            "overflow": null,
            "overflow_x": null,
            "overflow_y": null,
            "padding": null,
            "right": null,
            "top": null,
            "visibility": null,
            "width": null
          }
        },
        "9410c0162b5143ecb2c78dcb79771a02": {
          "model_module": "@jupyter-widgets/base",
          "model_name": "LayoutModel",
          "model_module_version": "1.2.0",
          "state": {
            "_model_module": "@jupyter-widgets/base",
            "_model_module_version": "1.2.0",
            "_model_name": "LayoutModel",
            "_view_count": null,
            "_view_module": "@jupyter-widgets/base",
            "_view_module_version": "1.2.0",
            "_view_name": "LayoutView",
            "align_content": null,
            "align_items": null,
            "align_self": null,
            "border": null,
            "bottom": null,
            "display": null,
            "flex": null,
            "flex_flow": null,
            "grid_area": null,
            "grid_auto_columns": null,
            "grid_auto_flow": null,
            "grid_auto_rows": null,
            "grid_column": null,
            "grid_gap": null,
            "grid_row": null,
            "grid_template_areas": null,
            "grid_template_columns": null,
            "grid_template_rows": null,
            "height": null,
            "justify_content": null,
            "justify_items": null,
            "left": null,
            "margin": null,
            "max_height": null,
            "max_width": null,
            "min_height": null,
            "min_width": null,
            "object_fit": null,
            "object_position": null,
            "order": null,
            "overflow": null,
            "overflow_x": null,
            "overflow_y": null,
            "padding": null,
            "right": null,
            "top": null,
            "visibility": null,
            "width": null
          }
        },
        "fd085e737c5d4c4ca24c80624092a556": {
          "model_module": "@jupyter-widgets/controls",
          "model_name": "DescriptionStyleModel",
          "model_module_version": "1.5.0",
          "state": {
            "_model_module": "@jupyter-widgets/controls",
            "_model_module_version": "1.5.0",
            "_model_name": "DescriptionStyleModel",
            "_view_count": null,
            "_view_module": "@jupyter-widgets/base",
            "_view_module_version": "1.2.0",
            "_view_name": "StyleView",
            "description_width": ""
          }
        },
        "b5bdb1c2884448378e23464f37d0efcb": {
          "model_module": "@jupyter-widgets/base",
          "model_name": "LayoutModel",
          "model_module_version": "1.2.0",
          "state": {
            "_model_module": "@jupyter-widgets/base",
            "_model_module_version": "1.2.0",
            "_model_name": "LayoutModel",
            "_view_count": null,
            "_view_module": "@jupyter-widgets/base",
            "_view_module_version": "1.2.0",
            "_view_name": "LayoutView",
            "align_content": null,
            "align_items": null,
            "align_self": null,
            "border": null,
            "bottom": null,
            "display": null,
            "flex": null,
            "flex_flow": null,
            "grid_area": null,
            "grid_auto_columns": null,
            "grid_auto_flow": null,
            "grid_auto_rows": null,
            "grid_column": null,
            "grid_gap": null,
            "grid_row": null,
            "grid_template_areas": null,
            "grid_template_columns": null,
            "grid_template_rows": null,
            "height": null,
            "justify_content": null,
            "justify_items": null,
            "left": null,
            "margin": null,
            "max_height": null,
            "max_width": null,
            "min_height": null,
            "min_width": null,
            "object_fit": null,
            "object_position": null,
            "order": null,
            "overflow": null,
            "overflow_x": null,
            "overflow_y": null,
            "padding": null,
            "right": null,
            "top": null,
            "visibility": null,
            "width": null
          }
        },
        "4bfcdf7268f54d2da133839ab5f18a31": {
          "model_module": "@jupyter-widgets/controls",
          "model_name": "ProgressStyleModel",
          "model_module_version": "1.5.0",
          "state": {
            "_model_module": "@jupyter-widgets/controls",
            "_model_module_version": "1.5.0",
            "_model_name": "ProgressStyleModel",
            "_view_count": null,
            "_view_module": "@jupyter-widgets/base",
            "_view_module_version": "1.2.0",
            "_view_name": "StyleView",
            "bar_color": null,
            "description_width": ""
          }
        },
        "9c5b2e7241424a5c95f85a0541c9f607": {
          "model_module": "@jupyter-widgets/base",
          "model_name": "LayoutModel",
          "model_module_version": "1.2.0",
          "state": {
            "_model_module": "@jupyter-widgets/base",
            "_model_module_version": "1.2.0",
            "_model_name": "LayoutModel",
            "_view_count": null,
            "_view_module": "@jupyter-widgets/base",
            "_view_module_version": "1.2.0",
            "_view_name": "LayoutView",
            "align_content": null,
            "align_items": null,
            "align_self": null,
            "border": null,
            "bottom": null,
            "display": null,
            "flex": null,
            "flex_flow": null,
            "grid_area": null,
            "grid_auto_columns": null,
            "grid_auto_flow": null,
            "grid_auto_rows": null,
            "grid_column": null,
            "grid_gap": null,
            "grid_row": null,
            "grid_template_areas": null,
            "grid_template_columns": null,
            "grid_template_rows": null,
            "height": null,
            "justify_content": null,
            "justify_items": null,
            "left": null,
            "margin": null,
            "max_height": null,
            "max_width": null,
            "min_height": null,
            "min_width": null,
            "object_fit": null,
            "object_position": null,
            "order": null,
            "overflow": null,
            "overflow_x": null,
            "overflow_y": null,
            "padding": null,
            "right": null,
            "top": null,
            "visibility": null,
            "width": null
          }
        },
        "a77bf95bd3924d89b12ab71950e9dc42": {
          "model_module": "@jupyter-widgets/controls",
          "model_name": "DescriptionStyleModel",
          "model_module_version": "1.5.0",
          "state": {
            "_model_module": "@jupyter-widgets/controls",
            "_model_module_version": "1.5.0",
            "_model_name": "DescriptionStyleModel",
            "_view_count": null,
            "_view_module": "@jupyter-widgets/base",
            "_view_module_version": "1.2.0",
            "_view_name": "StyleView",
            "description_width": ""
          }
        },
        "1bab30de996d4a469cb18130a38df003": {
          "model_module": "@jupyter-widgets/controls",
          "model_name": "HBoxModel",
          "model_module_version": "1.5.0",
          "state": {
            "_dom_classes": [],
            "_model_module": "@jupyter-widgets/controls",
            "_model_module_version": "1.5.0",
            "_model_name": "HBoxModel",
            "_view_count": null,
            "_view_module": "@jupyter-widgets/controls",
            "_view_module_version": "1.5.0",
            "_view_name": "HBoxView",
            "box_style": "",
            "children": [
              "IPY_MODEL_d520326910b1481a9a0f3535fdab605e",
              "IPY_MODEL_bb4ffa080c474694b030dd68cb1ca3d0",
              "IPY_MODEL_79522058cfa34b38a5cf1ab296dad3b3"
            ],
            "layout": "IPY_MODEL_e56a7ec41445432d9d37de12bbeaadf1"
          }
        },
        "d520326910b1481a9a0f3535fdab605e": {
          "model_module": "@jupyter-widgets/controls",
          "model_name": "HTMLModel",
          "model_module_version": "1.5.0",
          "state": {
            "_dom_classes": [],
            "_model_module": "@jupyter-widgets/controls",
            "_model_module_version": "1.5.0",
            "_model_name": "HTMLModel",
            "_view_count": null,
            "_view_module": "@jupyter-widgets/controls",
            "_view_module_version": "1.5.0",
            "_view_name": "HTMLView",
            "description": "",
            "description_tooltip": null,
            "layout": "IPY_MODEL_687e2fd812fd487f978452589a24465c",
            "placeholder": "​",
            "style": "IPY_MODEL_9c3f7fadb5f54781b2b1f823b7024d0c",
            "value": "Downloading: 100%"
          }
        },
        "bb4ffa080c474694b030dd68cb1ca3d0": {
          "model_module": "@jupyter-widgets/controls",
          "model_name": "FloatProgressModel",
          "model_module_version": "1.5.0",
          "state": {
            "_dom_classes": [],
            "_model_module": "@jupyter-widgets/controls",
            "_model_module_version": "1.5.0",
            "_model_name": "FloatProgressModel",
            "_view_count": null,
            "_view_module": "@jupyter-widgets/controls",
            "_view_module_version": "1.5.0",
            "_view_name": "ProgressView",
            "bar_style": "success",
            "description": "",
            "description_tooltip": null,
            "layout": "IPY_MODEL_9951f20f93054d8eb0e024f3b88305bf",
            "max": 435797,
            "min": 0,
            "orientation": "horizontal",
            "style": "IPY_MODEL_2b78162cbf364288bd6fcdac8e5adb91",
            "value": 435797
          }
        },
        "79522058cfa34b38a5cf1ab296dad3b3": {
          "model_module": "@jupyter-widgets/controls",
          "model_name": "HTMLModel",
          "model_module_version": "1.5.0",
          "state": {
            "_dom_classes": [],
            "_model_module": "@jupyter-widgets/controls",
            "_model_module_version": "1.5.0",
            "_model_name": "HTMLModel",
            "_view_count": null,
            "_view_module": "@jupyter-widgets/controls",
            "_view_module_version": "1.5.0",
            "_view_name": "HTMLView",
            "description": "",
            "description_tooltip": null,
            "layout": "IPY_MODEL_8b5af62bfa714719989587f4269eda95",
            "placeholder": "​",
            "style": "IPY_MODEL_df0aa67da9c54baa8c48c4444dcb8df7",
            "value": " 436k/436k [00:01&lt;00:00, 387kB/s]"
          }
        },
        "e56a7ec41445432d9d37de12bbeaadf1": {
          "model_module": "@jupyter-widgets/base",
          "model_name": "LayoutModel",
          "model_module_version": "1.2.0",
          "state": {
            "_model_module": "@jupyter-widgets/base",
            "_model_module_version": "1.2.0",
            "_model_name": "LayoutModel",
            "_view_count": null,
            "_view_module": "@jupyter-widgets/base",
            "_view_module_version": "1.2.0",
            "_view_name": "LayoutView",
            "align_content": null,
            "align_items": null,
            "align_self": null,
            "border": null,
            "bottom": null,
            "display": null,
            "flex": null,
            "flex_flow": null,
            "grid_area": null,
            "grid_auto_columns": null,
            "grid_auto_flow": null,
            "grid_auto_rows": null,
            "grid_column": null,
            "grid_gap": null,
            "grid_row": null,
            "grid_template_areas": null,
            "grid_template_columns": null,
            "grid_template_rows": null,
            "height": null,
            "justify_content": null,
            "justify_items": null,
            "left": null,
            "margin": null,
            "max_height": null,
            "max_width": null,
            "min_height": null,
            "min_width": null,
            "object_fit": null,
            "object_position": null,
            "order": null,
            "overflow": null,
            "overflow_x": null,
            "overflow_y": null,
            "padding": null,
            "right": null,
            "top": null,
            "visibility": null,
            "width": null
          }
        },
        "687e2fd812fd487f978452589a24465c": {
          "model_module": "@jupyter-widgets/base",
          "model_name": "LayoutModel",
          "model_module_version": "1.2.0",
          "state": {
            "_model_module": "@jupyter-widgets/base",
            "_model_module_version": "1.2.0",
            "_model_name": "LayoutModel",
            "_view_count": null,
            "_view_module": "@jupyter-widgets/base",
            "_view_module_version": "1.2.0",
            "_view_name": "LayoutView",
            "align_content": null,
            "align_items": null,
            "align_self": null,
            "border": null,
            "bottom": null,
            "display": null,
            "flex": null,
            "flex_flow": null,
            "grid_area": null,
            "grid_auto_columns": null,
            "grid_auto_flow": null,
            "grid_auto_rows": null,
            "grid_column": null,
            "grid_gap": null,
            "grid_row": null,
            "grid_template_areas": null,
            "grid_template_columns": null,
            "grid_template_rows": null,
            "height": null,
            "justify_content": null,
            "justify_items": null,
            "left": null,
            "margin": null,
            "max_height": null,
            "max_width": null,
            "min_height": null,
            "min_width": null,
            "object_fit": null,
            "object_position": null,
            "order": null,
            "overflow": null,
            "overflow_x": null,
            "overflow_y": null,
            "padding": null,
            "right": null,
            "top": null,
            "visibility": null,
            "width": null
          }
        },
        "9c3f7fadb5f54781b2b1f823b7024d0c": {
          "model_module": "@jupyter-widgets/controls",
          "model_name": "DescriptionStyleModel",
          "model_module_version": "1.5.0",
          "state": {
            "_model_module": "@jupyter-widgets/controls",
            "_model_module_version": "1.5.0",
            "_model_name": "DescriptionStyleModel",
            "_view_count": null,
            "_view_module": "@jupyter-widgets/base",
            "_view_module_version": "1.2.0",
            "_view_name": "StyleView",
            "description_width": ""
          }
        },
        "9951f20f93054d8eb0e024f3b88305bf": {
          "model_module": "@jupyter-widgets/base",
          "model_name": "LayoutModel",
          "model_module_version": "1.2.0",
          "state": {
            "_model_module": "@jupyter-widgets/base",
            "_model_module_version": "1.2.0",
            "_model_name": "LayoutModel",
            "_view_count": null,
            "_view_module": "@jupyter-widgets/base",
            "_view_module_version": "1.2.0",
            "_view_name": "LayoutView",
            "align_content": null,
            "align_items": null,
            "align_self": null,
            "border": null,
            "bottom": null,
            "display": null,
            "flex": null,
            "flex_flow": null,
            "grid_area": null,
            "grid_auto_columns": null,
            "grid_auto_flow": null,
            "grid_auto_rows": null,
            "grid_column": null,
            "grid_gap": null,
            "grid_row": null,
            "grid_template_areas": null,
            "grid_template_columns": null,
            "grid_template_rows": null,
            "height": null,
            "justify_content": null,
            "justify_items": null,
            "left": null,
            "margin": null,
            "max_height": null,
            "max_width": null,
            "min_height": null,
            "min_width": null,
            "object_fit": null,
            "object_position": null,
            "order": null,
            "overflow": null,
            "overflow_x": null,
            "overflow_y": null,
            "padding": null,
            "right": null,
            "top": null,
            "visibility": null,
            "width": null
          }
        },
        "2b78162cbf364288bd6fcdac8e5adb91": {
          "model_module": "@jupyter-widgets/controls",
          "model_name": "ProgressStyleModel",
          "model_module_version": "1.5.0",
          "state": {
            "_model_module": "@jupyter-widgets/controls",
            "_model_module_version": "1.5.0",
            "_model_name": "ProgressStyleModel",
            "_view_count": null,
            "_view_module": "@jupyter-widgets/base",
            "_view_module_version": "1.2.0",
            "_view_name": "StyleView",
            "bar_color": null,
            "description_width": ""
          }
        },
        "8b5af62bfa714719989587f4269eda95": {
          "model_module": "@jupyter-widgets/base",
          "model_name": "LayoutModel",
          "model_module_version": "1.2.0",
          "state": {
            "_model_module": "@jupyter-widgets/base",
            "_model_module_version": "1.2.0",
            "_model_name": "LayoutModel",
            "_view_count": null,
            "_view_module": "@jupyter-widgets/base",
            "_view_module_version": "1.2.0",
            "_view_name": "LayoutView",
            "align_content": null,
            "align_items": null,
            "align_self": null,
            "border": null,
            "bottom": null,
            "display": null,
            "flex": null,
            "flex_flow": null,
            "grid_area": null,
            "grid_auto_columns": null,
            "grid_auto_flow": null,
            "grid_auto_rows": null,
            "grid_column": null,
            "grid_gap": null,
            "grid_row": null,
            "grid_template_areas": null,
            "grid_template_columns": null,
            "grid_template_rows": null,
            "height": null,
            "justify_content": null,
            "justify_items": null,
            "left": null,
            "margin": null,
            "max_height": null,
            "max_width": null,
            "min_height": null,
            "min_width": null,
            "object_fit": null,
            "object_position": null,
            "order": null,
            "overflow": null,
            "overflow_x": null,
            "overflow_y": null,
            "padding": null,
            "right": null,
            "top": null,
            "visibility": null,
            "width": null
          }
        },
        "df0aa67da9c54baa8c48c4444dcb8df7": {
          "model_module": "@jupyter-widgets/controls",
          "model_name": "DescriptionStyleModel",
          "model_module_version": "1.5.0",
          "state": {
            "_model_module": "@jupyter-widgets/controls",
            "_model_module_version": "1.5.0",
            "_model_name": "DescriptionStyleModel",
            "_view_count": null,
            "_view_module": "@jupyter-widgets/base",
            "_view_module_version": "1.2.0",
            "_view_name": "StyleView",
            "description_width": ""
          }
        },
        "eced9c06e4934a5fb58925ac8d70c516": {
          "model_module": "@jupyter-widgets/controls",
          "model_name": "HBoxModel",
          "model_module_version": "1.5.0",
          "state": {
            "_dom_classes": [],
            "_model_module": "@jupyter-widgets/controls",
            "_model_module_version": "1.5.0",
            "_model_name": "HBoxModel",
            "_view_count": null,
            "_view_module": "@jupyter-widgets/controls",
            "_view_module_version": "1.5.0",
            "_view_name": "HBoxView",
            "box_style": "",
            "children": [
              "IPY_MODEL_80f3a8530bd54a0eb44a0bf65f083863",
              "IPY_MODEL_d759898e682d48c9a686ac6c025d2ffd",
              "IPY_MODEL_151100b232d14ba0bf3d242131617fdb"
            ],
            "layout": "IPY_MODEL_5515d3ed28684931b22fa1013376be17"
          }
        },
        "80f3a8530bd54a0eb44a0bf65f083863": {
          "model_module": "@jupyter-widgets/controls",
          "model_name": "HTMLModel",
          "model_module_version": "1.5.0",
          "state": {
            "_dom_classes": [],
            "_model_module": "@jupyter-widgets/controls",
            "_model_module_version": "1.5.0",
            "_model_name": "HTMLModel",
            "_view_count": null,
            "_view_module": "@jupyter-widgets/controls",
            "_view_module_version": "1.5.0",
            "_view_name": "HTMLView",
            "description": "",
            "description_tooltip": null,
            "layout": "IPY_MODEL_e62383c8516f4633af12e5d6d2148aa5",
            "placeholder": "​",
            "style": "IPY_MODEL_39a7bf2329764db7bc77c475e3f8c692",
            "value": "Downloading: 100%"
          }
        },
        "d759898e682d48c9a686ac6c025d2ffd": {
          "model_module": "@jupyter-widgets/controls",
          "model_name": "FloatProgressModel",
          "model_module_version": "1.5.0",
          "state": {
            "_dom_classes": [],
            "_model_module": "@jupyter-widgets/controls",
            "_model_module_version": "1.5.0",
            "_model_name": "FloatProgressModel",
            "_view_count": null,
            "_view_module": "@jupyter-widgets/controls",
            "_view_module_version": "1.5.0",
            "_view_name": "ProgressView",
            "bar_style": "success",
            "description": "",
            "description_tooltip": null,
            "layout": "IPY_MODEL_c75eebc6262b475f9dcad47b1c0de714",
            "max": 570,
            "min": 0,
            "orientation": "horizontal",
            "style": "IPY_MODEL_162cc14e246d4fd8b5c1c7f30417b3c1",
            "value": 570
          }
        },
        "151100b232d14ba0bf3d242131617fdb": {
          "model_module": "@jupyter-widgets/controls",
          "model_name": "HTMLModel",
          "model_module_version": "1.5.0",
          "state": {
            "_dom_classes": [],
            "_model_module": "@jupyter-widgets/controls",
            "_model_module_version": "1.5.0",
            "_model_name": "HTMLModel",
            "_view_count": null,
            "_view_module": "@jupyter-widgets/controls",
            "_view_module_version": "1.5.0",
            "_view_name": "HTMLView",
            "description": "",
            "description_tooltip": null,
            "layout": "IPY_MODEL_b1a0266f2d524340b4eb4a69c6bd7af0",
            "placeholder": "​",
            "style": "IPY_MODEL_a5aa65a69bf24a079e633dd326f2b479",
            "value": " 570/570 [00:00&lt;00:00, 19.1kB/s]"
          }
        },
        "5515d3ed28684931b22fa1013376be17": {
          "model_module": "@jupyter-widgets/base",
          "model_name": "LayoutModel",
          "model_module_version": "1.2.0",
          "state": {
            "_model_module": "@jupyter-widgets/base",
            "_model_module_version": "1.2.0",
            "_model_name": "LayoutModel",
            "_view_count": null,
            "_view_module": "@jupyter-widgets/base",
            "_view_module_version": "1.2.0",
            "_view_name": "LayoutView",
            "align_content": null,
            "align_items": null,
            "align_self": null,
            "border": null,
            "bottom": null,
            "display": null,
            "flex": null,
            "flex_flow": null,
            "grid_area": null,
            "grid_auto_columns": null,
            "grid_auto_flow": null,
            "grid_auto_rows": null,
            "grid_column": null,
            "grid_gap": null,
            "grid_row": null,
            "grid_template_areas": null,
            "grid_template_columns": null,
            "grid_template_rows": null,
            "height": null,
            "justify_content": null,
            "justify_items": null,
            "left": null,
            "margin": null,
            "max_height": null,
            "max_width": null,
            "min_height": null,
            "min_width": null,
            "object_fit": null,
            "object_position": null,
            "order": null,
            "overflow": null,
            "overflow_x": null,
            "overflow_y": null,
            "padding": null,
            "right": null,
            "top": null,
            "visibility": null,
            "width": null
          }
        },
        "e62383c8516f4633af12e5d6d2148aa5": {
          "model_module": "@jupyter-widgets/base",
          "model_name": "LayoutModel",
          "model_module_version": "1.2.0",
          "state": {
            "_model_module": "@jupyter-widgets/base",
            "_model_module_version": "1.2.0",
            "_model_name": "LayoutModel",
            "_view_count": null,
            "_view_module": "@jupyter-widgets/base",
            "_view_module_version": "1.2.0",
            "_view_name": "LayoutView",
            "align_content": null,
            "align_items": null,
            "align_self": null,
            "border": null,
            "bottom": null,
            "display": null,
            "flex": null,
            "flex_flow": null,
            "grid_area": null,
            "grid_auto_columns": null,
            "grid_auto_flow": null,
            "grid_auto_rows": null,
            "grid_column": null,
            "grid_gap": null,
            "grid_row": null,
            "grid_template_areas": null,
            "grid_template_columns": null,
            "grid_template_rows": null,
            "height": null,
            "justify_content": null,
            "justify_items": null,
            "left": null,
            "margin": null,
            "max_height": null,
            "max_width": null,
            "min_height": null,
            "min_width": null,
            "object_fit": null,
            "object_position": null,
            "order": null,
            "overflow": null,
            "overflow_x": null,
            "overflow_y": null,
            "padding": null,
            "right": null,
            "top": null,
            "visibility": null,
            "width": null
          }
        },
        "39a7bf2329764db7bc77c475e3f8c692": {
          "model_module": "@jupyter-widgets/controls",
          "model_name": "DescriptionStyleModel",
          "model_module_version": "1.5.0",
          "state": {
            "_model_module": "@jupyter-widgets/controls",
            "_model_module_version": "1.5.0",
            "_model_name": "DescriptionStyleModel",
            "_view_count": null,
            "_view_module": "@jupyter-widgets/base",
            "_view_module_version": "1.2.0",
            "_view_name": "StyleView",
            "description_width": ""
          }
        },
        "c75eebc6262b475f9dcad47b1c0de714": {
          "model_module": "@jupyter-widgets/base",
          "model_name": "LayoutModel",
          "model_module_version": "1.2.0",
          "state": {
            "_model_module": "@jupyter-widgets/base",
            "_model_module_version": "1.2.0",
            "_model_name": "LayoutModel",
            "_view_count": null,
            "_view_module": "@jupyter-widgets/base",
            "_view_module_version": "1.2.0",
            "_view_name": "LayoutView",
            "align_content": null,
            "align_items": null,
            "align_self": null,
            "border": null,
            "bottom": null,
            "display": null,
            "flex": null,
            "flex_flow": null,
            "grid_area": null,
            "grid_auto_columns": null,
            "grid_auto_flow": null,
            "grid_auto_rows": null,
            "grid_column": null,
            "grid_gap": null,
            "grid_row": null,
            "grid_template_areas": null,
            "grid_template_columns": null,
            "grid_template_rows": null,
            "height": null,
            "justify_content": null,
            "justify_items": null,
            "left": null,
            "margin": null,
            "max_height": null,
            "max_width": null,
            "min_height": null,
            "min_width": null,
            "object_fit": null,
            "object_position": null,
            "order": null,
            "overflow": null,
            "overflow_x": null,
            "overflow_y": null,
            "padding": null,
            "right": null,
            "top": null,
            "visibility": null,
            "width": null
          }
        },
        "162cc14e246d4fd8b5c1c7f30417b3c1": {
          "model_module": "@jupyter-widgets/controls",
          "model_name": "ProgressStyleModel",
          "model_module_version": "1.5.0",
          "state": {
            "_model_module": "@jupyter-widgets/controls",
            "_model_module_version": "1.5.0",
            "_model_name": "ProgressStyleModel",
            "_view_count": null,
            "_view_module": "@jupyter-widgets/base",
            "_view_module_version": "1.2.0",
            "_view_name": "StyleView",
            "bar_color": null,
            "description_width": ""
          }
        },
        "b1a0266f2d524340b4eb4a69c6bd7af0": {
          "model_module": "@jupyter-widgets/base",
          "model_name": "LayoutModel",
          "model_module_version": "1.2.0",
          "state": {
            "_model_module": "@jupyter-widgets/base",
            "_model_module_version": "1.2.0",
            "_model_name": "LayoutModel",
            "_view_count": null,
            "_view_module": "@jupyter-widgets/base",
            "_view_module_version": "1.2.0",
            "_view_name": "LayoutView",
            "align_content": null,
            "align_items": null,
            "align_self": null,
            "border": null,
            "bottom": null,
            "display": null,
            "flex": null,
            "flex_flow": null,
            "grid_area": null,
            "grid_auto_columns": null,
            "grid_auto_flow": null,
            "grid_auto_rows": null,
            "grid_column": null,
            "grid_gap": null,
            "grid_row": null,
            "grid_template_areas": null,
            "grid_template_columns": null,
            "grid_template_rows": null,
            "height": null,
            "justify_content": null,
            "justify_items": null,
            "left": null,
            "margin": null,
            "max_height": null,
            "max_width": null,
            "min_height": null,
            "min_width": null,
            "object_fit": null,
            "object_position": null,
            "order": null,
            "overflow": null,
            "overflow_x": null,
            "overflow_y": null,
            "padding": null,
            "right": null,
            "top": null,
            "visibility": null,
            "width": null
          }
        },
        "a5aa65a69bf24a079e633dd326f2b479": {
          "model_module": "@jupyter-widgets/controls",
          "model_name": "DescriptionStyleModel",
          "model_module_version": "1.5.0",
          "state": {
            "_model_module": "@jupyter-widgets/controls",
            "_model_module_version": "1.5.0",
            "_model_name": "DescriptionStyleModel",
            "_view_count": null,
            "_view_module": "@jupyter-widgets/base",
            "_view_module_version": "1.2.0",
            "_view_name": "StyleView",
            "description_width": ""
          }
        },
        "ff14510b9e2c48e58f8afa157cfe3bd6": {
          "model_module": "@jupyter-widgets/controls",
          "model_name": "HBoxModel",
          "model_module_version": "1.5.0",
          "state": {
            "_dom_classes": [],
            "_model_module": "@jupyter-widgets/controls",
            "_model_module_version": "1.5.0",
            "_model_name": "HBoxModel",
            "_view_count": null,
            "_view_module": "@jupyter-widgets/controls",
            "_view_module_version": "1.5.0",
            "_view_name": "HBoxView",
            "box_style": "",
            "children": [
              "IPY_MODEL_1779d85196ec47a794d76721320dc68b",
              "IPY_MODEL_285e44db3cd94cd0801bd7b8fd2eb16d",
              "IPY_MODEL_7ebf01b30a8f42a28b4a0c4489261987"
            ],
            "layout": "IPY_MODEL_f0ec0f8fb6134849ba4d93f3ccdc9fe6"
          }
        },
        "1779d85196ec47a794d76721320dc68b": {
          "model_module": "@jupyter-widgets/controls",
          "model_name": "HTMLModel",
          "model_module_version": "1.5.0",
          "state": {
            "_dom_classes": [],
            "_model_module": "@jupyter-widgets/controls",
            "_model_module_version": "1.5.0",
            "_model_name": "HTMLModel",
            "_view_count": null,
            "_view_module": "@jupyter-widgets/controls",
            "_view_module_version": "1.5.0",
            "_view_name": "HTMLView",
            "description": "",
            "description_tooltip": null,
            "layout": "IPY_MODEL_e8a09b81b2b64b87ae1970663575e5d6",
            "placeholder": "​",
            "style": "IPY_MODEL_30a554ab4eca4dae88c01ed849429ea3",
            "value": "Downloading: 100%"
          }
        },
        "285e44db3cd94cd0801bd7b8fd2eb16d": {
          "model_module": "@jupyter-widgets/controls",
          "model_name": "FloatProgressModel",
          "model_module_version": "1.5.0",
          "state": {
            "_dom_classes": [],
            "_model_module": "@jupyter-widgets/controls",
            "_model_module_version": "1.5.0",
            "_model_name": "FloatProgressModel",
            "_view_count": null,
            "_view_module": "@jupyter-widgets/controls",
            "_view_module_version": "1.5.0",
            "_view_name": "ProgressView",
            "bar_style": "success",
            "description": "",
            "description_tooltip": null,
            "layout": "IPY_MODEL_e4b2f7e382d641e8b5aed722925e2129",
            "max": 435779157,
            "min": 0,
            "orientation": "horizontal",
            "style": "IPY_MODEL_1ad45b8056b44e2c809e7cc33d701c88",
            "value": 435779157
          }
        },
        "7ebf01b30a8f42a28b4a0c4489261987": {
          "model_module": "@jupyter-widgets/controls",
          "model_name": "HTMLModel",
          "model_module_version": "1.5.0",
          "state": {
            "_dom_classes": [],
            "_model_module": "@jupyter-widgets/controls",
            "_model_module_version": "1.5.0",
            "_model_name": "HTMLModel",
            "_view_count": null,
            "_view_module": "@jupyter-widgets/controls",
            "_view_module_version": "1.5.0",
            "_view_name": "HTMLView",
            "description": "",
            "description_tooltip": null,
            "layout": "IPY_MODEL_d70c0b34a9d54c068833a501320a1095",
            "placeholder": "​",
            "style": "IPY_MODEL_6d52f513f94d403da0bcf8a4f5ee301d",
            "value": " 436M/436M [00:06&lt;00:00, 76.3MB/s]"
          }
        },
        "f0ec0f8fb6134849ba4d93f3ccdc9fe6": {
          "model_module": "@jupyter-widgets/base",
          "model_name": "LayoutModel",
          "model_module_version": "1.2.0",
          "state": {
            "_model_module": "@jupyter-widgets/base",
            "_model_module_version": "1.2.0",
            "_model_name": "LayoutModel",
            "_view_count": null,
            "_view_module": "@jupyter-widgets/base",
            "_view_module_version": "1.2.0",
            "_view_name": "LayoutView",
            "align_content": null,
            "align_items": null,
            "align_self": null,
            "border": null,
            "bottom": null,
            "display": null,
            "flex": null,
            "flex_flow": null,
            "grid_area": null,
            "grid_auto_columns": null,
            "grid_auto_flow": null,
            "grid_auto_rows": null,
            "grid_column": null,
            "grid_gap": null,
            "grid_row": null,
            "grid_template_areas": null,
            "grid_template_columns": null,
            "grid_template_rows": null,
            "height": null,
            "justify_content": null,
            "justify_items": null,
            "left": null,
            "margin": null,
            "max_height": null,
            "max_width": null,
            "min_height": null,
            "min_width": null,
            "object_fit": null,
            "object_position": null,
            "order": null,
            "overflow": null,
            "overflow_x": null,
            "overflow_y": null,
            "padding": null,
            "right": null,
            "top": null,
            "visibility": null,
            "width": null
          }
        },
        "e8a09b81b2b64b87ae1970663575e5d6": {
          "model_module": "@jupyter-widgets/base",
          "model_name": "LayoutModel",
          "model_module_version": "1.2.0",
          "state": {
            "_model_module": "@jupyter-widgets/base",
            "_model_module_version": "1.2.0",
            "_model_name": "LayoutModel",
            "_view_count": null,
            "_view_module": "@jupyter-widgets/base",
            "_view_module_version": "1.2.0",
            "_view_name": "LayoutView",
            "align_content": null,
            "align_items": null,
            "align_self": null,
            "border": null,
            "bottom": null,
            "display": null,
            "flex": null,
            "flex_flow": null,
            "grid_area": null,
            "grid_auto_columns": null,
            "grid_auto_flow": null,
            "grid_auto_rows": null,
            "grid_column": null,
            "grid_gap": null,
            "grid_row": null,
            "grid_template_areas": null,
            "grid_template_columns": null,
            "grid_template_rows": null,
            "height": null,
            "justify_content": null,
            "justify_items": null,
            "left": null,
            "margin": null,
            "max_height": null,
            "max_width": null,
            "min_height": null,
            "min_width": null,
            "object_fit": null,
            "object_position": null,
            "order": null,
            "overflow": null,
            "overflow_x": null,
            "overflow_y": null,
            "padding": null,
            "right": null,
            "top": null,
            "visibility": null,
            "width": null
          }
        },
        "30a554ab4eca4dae88c01ed849429ea3": {
          "model_module": "@jupyter-widgets/controls",
          "model_name": "DescriptionStyleModel",
          "model_module_version": "1.5.0",
          "state": {
            "_model_module": "@jupyter-widgets/controls",
            "_model_module_version": "1.5.0",
            "_model_name": "DescriptionStyleModel",
            "_view_count": null,
            "_view_module": "@jupyter-widgets/base",
            "_view_module_version": "1.2.0",
            "_view_name": "StyleView",
            "description_width": ""
          }
        },
        "e4b2f7e382d641e8b5aed722925e2129": {
          "model_module": "@jupyter-widgets/base",
          "model_name": "LayoutModel",
          "model_module_version": "1.2.0",
          "state": {
            "_model_module": "@jupyter-widgets/base",
            "_model_module_version": "1.2.0",
            "_model_name": "LayoutModel",
            "_view_count": null,
            "_view_module": "@jupyter-widgets/base",
            "_view_module_version": "1.2.0",
            "_view_name": "LayoutView",
            "align_content": null,
            "align_items": null,
            "align_self": null,
            "border": null,
            "bottom": null,
            "display": null,
            "flex": null,
            "flex_flow": null,
            "grid_area": null,
            "grid_auto_columns": null,
            "grid_auto_flow": null,
            "grid_auto_rows": null,
            "grid_column": null,
            "grid_gap": null,
            "grid_row": null,
            "grid_template_areas": null,
            "grid_template_columns": null,
            "grid_template_rows": null,
            "height": null,
            "justify_content": null,
            "justify_items": null,
            "left": null,
            "margin": null,
            "max_height": null,
            "max_width": null,
            "min_height": null,
            "min_width": null,
            "object_fit": null,
            "object_position": null,
            "order": null,
            "overflow": null,
            "overflow_x": null,
            "overflow_y": null,
            "padding": null,
            "right": null,
            "top": null,
            "visibility": null,
            "width": null
          }
        },
        "1ad45b8056b44e2c809e7cc33d701c88": {
          "model_module": "@jupyter-widgets/controls",
          "model_name": "ProgressStyleModel",
          "model_module_version": "1.5.0",
          "state": {
            "_model_module": "@jupyter-widgets/controls",
            "_model_module_version": "1.5.0",
            "_model_name": "ProgressStyleModel",
            "_view_count": null,
            "_view_module": "@jupyter-widgets/base",
            "_view_module_version": "1.2.0",
            "_view_name": "StyleView",
            "bar_color": null,
            "description_width": ""
          }
        },
        "d70c0b34a9d54c068833a501320a1095": {
          "model_module": "@jupyter-widgets/base",
          "model_name": "LayoutModel",
          "model_module_version": "1.2.0",
          "state": {
            "_model_module": "@jupyter-widgets/base",
            "_model_module_version": "1.2.0",
            "_model_name": "LayoutModel",
            "_view_count": null,
            "_view_module": "@jupyter-widgets/base",
            "_view_module_version": "1.2.0",
            "_view_name": "LayoutView",
            "align_content": null,
            "align_items": null,
            "align_self": null,
            "border": null,
            "bottom": null,
            "display": null,
            "flex": null,
            "flex_flow": null,
            "grid_area": null,
            "grid_auto_columns": null,
            "grid_auto_flow": null,
            "grid_auto_rows": null,
            "grid_column": null,
            "grid_gap": null,
            "grid_row": null,
            "grid_template_areas": null,
            "grid_template_columns": null,
            "grid_template_rows": null,
            "height": null,
            "justify_content": null,
            "justify_items": null,
            "left": null,
            "margin": null,
            "max_height": null,
            "max_width": null,
            "min_height": null,
            "min_width": null,
            "object_fit": null,
            "object_position": null,
            "order": null,
            "overflow": null,
            "overflow_x": null,
            "overflow_y": null,
            "padding": null,
            "right": null,
            "top": null,
            "visibility": null,
            "width": null
          }
        },
        "6d52f513f94d403da0bcf8a4f5ee301d": {
          "model_module": "@jupyter-widgets/controls",
          "model_name": "DescriptionStyleModel",
          "model_module_version": "1.5.0",
          "state": {
            "_model_module": "@jupyter-widgets/controls",
            "_model_module_version": "1.5.0",
            "_model_name": "DescriptionStyleModel",
            "_view_count": null,
            "_view_module": "@jupyter-widgets/base",
            "_view_module_version": "1.2.0",
            "_view_name": "StyleView",
            "description_width": ""
          }
        },
        "a0d6862f5ec74bd8a36e8b8ae3a57bb9": {
          "model_module": "@jupyter-widgets/controls",
          "model_name": "HBoxModel",
          "model_module_version": "1.5.0",
          "state": {
            "_dom_classes": [],
            "_model_module": "@jupyter-widgets/controls",
            "_model_module_version": "1.5.0",
            "_model_name": "HBoxModel",
            "_view_count": null,
            "_view_module": "@jupyter-widgets/controls",
            "_view_module_version": "1.5.0",
            "_view_name": "HBoxView",
            "box_style": "",
            "children": [
              "IPY_MODEL_177a27604bf345dd852badec3a22eba1",
              "IPY_MODEL_bab52d55863c4386b6b016b7a022725b",
              "IPY_MODEL_25e839cf7f8e486fba637e69198e03e3"
            ],
            "layout": "IPY_MODEL_0b92fb235c1d442a9b0a81c7fe0d8bb4"
          }
        },
        "177a27604bf345dd852badec3a22eba1": {
          "model_module": "@jupyter-widgets/controls",
          "model_name": "HTMLModel",
          "model_module_version": "1.5.0",
          "state": {
            "_dom_classes": [],
            "_model_module": "@jupyter-widgets/controls",
            "_model_module_version": "1.5.0",
            "_model_name": "HTMLModel",
            "_view_count": null,
            "_view_module": "@jupyter-widgets/controls",
            "_view_module_version": "1.5.0",
            "_view_name": "HTMLView",
            "description": "",
            "description_tooltip": null,
            "layout": "IPY_MODEL_304b3f5d280c4efc905e143be20725fb",
            "placeholder": "​",
            "style": "IPY_MODEL_bb6e857afe3b48e1a24e2a46277158f7",
            "value": "Downloading builder script: "
          }
        },
        "bab52d55863c4386b6b016b7a022725b": {
          "model_module": "@jupyter-widgets/controls",
          "model_name": "FloatProgressModel",
          "model_module_version": "1.5.0",
          "state": {
            "_dom_classes": [],
            "_model_module": "@jupyter-widgets/controls",
            "_model_module_version": "1.5.0",
            "_model_name": "FloatProgressModel",
            "_view_count": null,
            "_view_module": "@jupyter-widgets/controls",
            "_view_module_version": "1.5.0",
            "_view_name": "ProgressView",
            "bar_style": "success",
            "description": "",
            "description_tooltip": null,
            "layout": "IPY_MODEL_4c181f2d27ff4e0285c0a29ab5afb633",
            "max": 1652,
            "min": 0,
            "orientation": "horizontal",
            "style": "IPY_MODEL_f442a98f6cc04c70a8310d9d40d7752f",
            "value": 1652
          }
        },
        "25e839cf7f8e486fba637e69198e03e3": {
          "model_module": "@jupyter-widgets/controls",
          "model_name": "HTMLModel",
          "model_module_version": "1.5.0",
          "state": {
            "_dom_classes": [],
            "_model_module": "@jupyter-widgets/controls",
            "_model_module_version": "1.5.0",
            "_model_name": "HTMLModel",
            "_view_count": null,
            "_view_module": "@jupyter-widgets/controls",
            "_view_module_version": "1.5.0",
            "_view_name": "HTMLView",
            "description": "",
            "description_tooltip": null,
            "layout": "IPY_MODEL_37f38fc0a4114c97a60fbf4fbd94b978",
            "placeholder": "​",
            "style": "IPY_MODEL_a3289e5c6e464d8c93aa16662cfd8407",
            "value": " 4.21k/? [00:00&lt;00:00, 123kB/s]"
          }
        },
        "0b92fb235c1d442a9b0a81c7fe0d8bb4": {
          "model_module": "@jupyter-widgets/base",
          "model_name": "LayoutModel",
          "model_module_version": "1.2.0",
          "state": {
            "_model_module": "@jupyter-widgets/base",
            "_model_module_version": "1.2.0",
            "_model_name": "LayoutModel",
            "_view_count": null,
            "_view_module": "@jupyter-widgets/base",
            "_view_module_version": "1.2.0",
            "_view_name": "LayoutView",
            "align_content": null,
            "align_items": null,
            "align_self": null,
            "border": null,
            "bottom": null,
            "display": null,
            "flex": null,
            "flex_flow": null,
            "grid_area": null,
            "grid_auto_columns": null,
            "grid_auto_flow": null,
            "grid_auto_rows": null,
            "grid_column": null,
            "grid_gap": null,
            "grid_row": null,
            "grid_template_areas": null,
            "grid_template_columns": null,
            "grid_template_rows": null,
            "height": null,
            "justify_content": null,
            "justify_items": null,
            "left": null,
            "margin": null,
            "max_height": null,
            "max_width": null,
            "min_height": null,
            "min_width": null,
            "object_fit": null,
            "object_position": null,
            "order": null,
            "overflow": null,
            "overflow_x": null,
            "overflow_y": null,
            "padding": null,
            "right": null,
            "top": null,
            "visibility": null,
            "width": null
          }
        },
        "304b3f5d280c4efc905e143be20725fb": {
          "model_module": "@jupyter-widgets/base",
          "model_name": "LayoutModel",
          "model_module_version": "1.2.0",
          "state": {
            "_model_module": "@jupyter-widgets/base",
            "_model_module_version": "1.2.0",
            "_model_name": "LayoutModel",
            "_view_count": null,
            "_view_module": "@jupyter-widgets/base",
            "_view_module_version": "1.2.0",
            "_view_name": "LayoutView",
            "align_content": null,
            "align_items": null,
            "align_self": null,
            "border": null,
            "bottom": null,
            "display": null,
            "flex": null,
            "flex_flow": null,
            "grid_area": null,
            "grid_auto_columns": null,
            "grid_auto_flow": null,
            "grid_auto_rows": null,
            "grid_column": null,
            "grid_gap": null,
            "grid_row": null,
            "grid_template_areas": null,
            "grid_template_columns": null,
            "grid_template_rows": null,
            "height": null,
            "justify_content": null,
            "justify_items": null,
            "left": null,
            "margin": null,
            "max_height": null,
            "max_width": null,
            "min_height": null,
            "min_width": null,
            "object_fit": null,
            "object_position": null,
            "order": null,
            "overflow": null,
            "overflow_x": null,
            "overflow_y": null,
            "padding": null,
            "right": null,
            "top": null,
            "visibility": null,
            "width": null
          }
        },
        "bb6e857afe3b48e1a24e2a46277158f7": {
          "model_module": "@jupyter-widgets/controls",
          "model_name": "DescriptionStyleModel",
          "model_module_version": "1.5.0",
          "state": {
            "_model_module": "@jupyter-widgets/controls",
            "_model_module_version": "1.5.0",
            "_model_name": "DescriptionStyleModel",
            "_view_count": null,
            "_view_module": "@jupyter-widgets/base",
            "_view_module_version": "1.2.0",
            "_view_name": "StyleView",
            "description_width": ""
          }
        },
        "4c181f2d27ff4e0285c0a29ab5afb633": {
          "model_module": "@jupyter-widgets/base",
          "model_name": "LayoutModel",
          "model_module_version": "1.2.0",
          "state": {
            "_model_module": "@jupyter-widgets/base",
            "_model_module_version": "1.2.0",
            "_model_name": "LayoutModel",
            "_view_count": null,
            "_view_module": "@jupyter-widgets/base",
            "_view_module_version": "1.2.0",
            "_view_name": "LayoutView",
            "align_content": null,
            "align_items": null,
            "align_self": null,
            "border": null,
            "bottom": null,
            "display": null,
            "flex": null,
            "flex_flow": null,
            "grid_area": null,
            "grid_auto_columns": null,
            "grid_auto_flow": null,
            "grid_auto_rows": null,
            "grid_column": null,
            "grid_gap": null,
            "grid_row": null,
            "grid_template_areas": null,
            "grid_template_columns": null,
            "grid_template_rows": null,
            "height": null,
            "justify_content": null,
            "justify_items": null,
            "left": null,
            "margin": null,
            "max_height": null,
            "max_width": null,
            "min_height": null,
            "min_width": null,
            "object_fit": null,
            "object_position": null,
            "order": null,
            "overflow": null,
            "overflow_x": null,
            "overflow_y": null,
            "padding": null,
            "right": null,
            "top": null,
            "visibility": null,
            "width": null
          }
        },
        "f442a98f6cc04c70a8310d9d40d7752f": {
          "model_module": "@jupyter-widgets/controls",
          "model_name": "ProgressStyleModel",
          "model_module_version": "1.5.0",
          "state": {
            "_model_module": "@jupyter-widgets/controls",
            "_model_module_version": "1.5.0",
            "_model_name": "ProgressStyleModel",
            "_view_count": null,
            "_view_module": "@jupyter-widgets/base",
            "_view_module_version": "1.2.0",
            "_view_name": "StyleView",
            "bar_color": null,
            "description_width": ""
          }
        },
        "37f38fc0a4114c97a60fbf4fbd94b978": {
          "model_module": "@jupyter-widgets/base",
          "model_name": "LayoutModel",
          "model_module_version": "1.2.0",
          "state": {
            "_model_module": "@jupyter-widgets/base",
            "_model_module_version": "1.2.0",
            "_model_name": "LayoutModel",
            "_view_count": null,
            "_view_module": "@jupyter-widgets/base",
            "_view_module_version": "1.2.0",
            "_view_name": "LayoutView",
            "align_content": null,
            "align_items": null,
            "align_self": null,
            "border": null,
            "bottom": null,
            "display": null,
            "flex": null,
            "flex_flow": null,
            "grid_area": null,
            "grid_auto_columns": null,
            "grid_auto_flow": null,
            "grid_auto_rows": null,
            "grid_column": null,
            "grid_gap": null,
            "grid_row": null,
            "grid_template_areas": null,
            "grid_template_columns": null,
            "grid_template_rows": null,
            "height": null,
            "justify_content": null,
            "justify_items": null,
            "left": null,
            "margin": null,
            "max_height": null,
            "max_width": null,
            "min_height": null,
            "min_width": null,
            "object_fit": null,
            "object_position": null,
            "order": null,
            "overflow": null,
            "overflow_x": null,
            "overflow_y": null,
            "padding": null,
            "right": null,
            "top": null,
            "visibility": null,
            "width": null
          }
        },
        "a3289e5c6e464d8c93aa16662cfd8407": {
          "model_module": "@jupyter-widgets/controls",
          "model_name": "DescriptionStyleModel",
          "model_module_version": "1.5.0",
          "state": {
            "_model_module": "@jupyter-widgets/controls",
            "_model_module_version": "1.5.0",
            "_model_name": "DescriptionStyleModel",
            "_view_count": null,
            "_view_module": "@jupyter-widgets/base",
            "_view_module_version": "1.2.0",
            "_view_name": "StyleView",
            "description_width": ""
          }
        },
        "348bea4dbb3a4340befafd691e3652e1": {
          "model_module": "@jupyter-widgets/controls",
          "model_name": "HBoxModel",
          "model_module_version": "1.5.0",
          "state": {
            "_dom_classes": [],
            "_model_module": "@jupyter-widgets/controls",
            "_model_module_version": "1.5.0",
            "_model_name": "HBoxModel",
            "_view_count": null,
            "_view_module": "@jupyter-widgets/controls",
            "_view_module_version": "1.5.0",
            "_view_name": "HBoxView",
            "box_style": "",
            "children": [
              "IPY_MODEL_d33dc015335c45579ac96b1f7ec8806a",
              "IPY_MODEL_bc6d377df0d246d091c11b390527b2b5",
              "IPY_MODEL_59e78e4c2e5946cf8223cdac45d9353c"
            ],
            "layout": "IPY_MODEL_262fa3903b8146b6a20a4e54d082c091"
          }
        },
        "d33dc015335c45579ac96b1f7ec8806a": {
          "model_module": "@jupyter-widgets/controls",
          "model_name": "HTMLModel",
          "model_module_version": "1.5.0",
          "state": {
            "_dom_classes": [],
            "_model_module": "@jupyter-widgets/controls",
            "_model_module_version": "1.5.0",
            "_model_name": "HTMLModel",
            "_view_count": null,
            "_view_module": "@jupyter-widgets/controls",
            "_view_module_version": "1.5.0",
            "_view_name": "HTMLView",
            "description": "",
            "description_tooltip": null,
            "layout": "IPY_MODEL_c2cd70c237004bdeaada49d4da6d7dc0",
            "placeholder": "​",
            "style": "IPY_MODEL_42ce3611b39543a98202ea17e428417f",
            "value": "Downloading builder script: "
          }
        },
        "bc6d377df0d246d091c11b390527b2b5": {
          "model_module": "@jupyter-widgets/controls",
          "model_name": "FloatProgressModel",
          "model_module_version": "1.5.0",
          "state": {
            "_dom_classes": [],
            "_model_module": "@jupyter-widgets/controls",
            "_model_module_version": "1.5.0",
            "_model_name": "FloatProgressModel",
            "_view_count": null,
            "_view_module": "@jupyter-widgets/controls",
            "_view_module_version": "1.5.0",
            "_view_name": "ProgressView",
            "bar_style": "success",
            "description": "",
            "description_tooltip": null,
            "layout": "IPY_MODEL_3ce387178df24caca8ca7cd0af858b2c",
            "max": 2318,
            "min": 0,
            "orientation": "horizontal",
            "style": "IPY_MODEL_06ff371b74d04e848890cb7cce07695b",
            "value": 2318
          }
        },
        "59e78e4c2e5946cf8223cdac45d9353c": {
          "model_module": "@jupyter-widgets/controls",
          "model_name": "HTMLModel",
          "model_module_version": "1.5.0",
          "state": {
            "_dom_classes": [],
            "_model_module": "@jupyter-widgets/controls",
            "_model_module_version": "1.5.0",
            "_model_name": "HTMLModel",
            "_view_count": null,
            "_view_module": "@jupyter-widgets/controls",
            "_view_module_version": "1.5.0",
            "_view_name": "HTMLView",
            "description": "",
            "description_tooltip": null,
            "layout": "IPY_MODEL_55c3f2ebd3e947f7a4a331a8e32aa9ea",
            "placeholder": "​",
            "style": "IPY_MODEL_72a83b45967e4a10b7896f24fe3a512d",
            "value": " 6.50k/? [00:00&lt;00:00, 280kB/s]"
          }
        },
        "262fa3903b8146b6a20a4e54d082c091": {
          "model_module": "@jupyter-widgets/base",
          "model_name": "LayoutModel",
          "model_module_version": "1.2.0",
          "state": {
            "_model_module": "@jupyter-widgets/base",
            "_model_module_version": "1.2.0",
            "_model_name": "LayoutModel",
            "_view_count": null,
            "_view_module": "@jupyter-widgets/base",
            "_view_module_version": "1.2.0",
            "_view_name": "LayoutView",
            "align_content": null,
            "align_items": null,
            "align_self": null,
            "border": null,
            "bottom": null,
            "display": null,
            "flex": null,
            "flex_flow": null,
            "grid_area": null,
            "grid_auto_columns": null,
            "grid_auto_flow": null,
            "grid_auto_rows": null,
            "grid_column": null,
            "grid_gap": null,
            "grid_row": null,
            "grid_template_areas": null,
            "grid_template_columns": null,
            "grid_template_rows": null,
            "height": null,
            "justify_content": null,
            "justify_items": null,
            "left": null,
            "margin": null,
            "max_height": null,
            "max_width": null,
            "min_height": null,
            "min_width": null,
            "object_fit": null,
            "object_position": null,
            "order": null,
            "overflow": null,
            "overflow_x": null,
            "overflow_y": null,
            "padding": null,
            "right": null,
            "top": null,
            "visibility": null,
            "width": null
          }
        },
        "c2cd70c237004bdeaada49d4da6d7dc0": {
          "model_module": "@jupyter-widgets/base",
          "model_name": "LayoutModel",
          "model_module_version": "1.2.0",
          "state": {
            "_model_module": "@jupyter-widgets/base",
            "_model_module_version": "1.2.0",
            "_model_name": "LayoutModel",
            "_view_count": null,
            "_view_module": "@jupyter-widgets/base",
            "_view_module_version": "1.2.0",
            "_view_name": "LayoutView",
            "align_content": null,
            "align_items": null,
            "align_self": null,
            "border": null,
            "bottom": null,
            "display": null,
            "flex": null,
            "flex_flow": null,
            "grid_area": null,
            "grid_auto_columns": null,
            "grid_auto_flow": null,
            "grid_auto_rows": null,
            "grid_column": null,
            "grid_gap": null,
            "grid_row": null,
            "grid_template_areas": null,
            "grid_template_columns": null,
            "grid_template_rows": null,
            "height": null,
            "justify_content": null,
            "justify_items": null,
            "left": null,
            "margin": null,
            "max_height": null,
            "max_width": null,
            "min_height": null,
            "min_width": null,
            "object_fit": null,
            "object_position": null,
            "order": null,
            "overflow": null,
            "overflow_x": null,
            "overflow_y": null,
            "padding": null,
            "right": null,
            "top": null,
            "visibility": null,
            "width": null
          }
        },
        "42ce3611b39543a98202ea17e428417f": {
          "model_module": "@jupyter-widgets/controls",
          "model_name": "DescriptionStyleModel",
          "model_module_version": "1.5.0",
          "state": {
            "_model_module": "@jupyter-widgets/controls",
            "_model_module_version": "1.5.0",
            "_model_name": "DescriptionStyleModel",
            "_view_count": null,
            "_view_module": "@jupyter-widgets/base",
            "_view_module_version": "1.2.0",
            "_view_name": "StyleView",
            "description_width": ""
          }
        },
        "3ce387178df24caca8ca7cd0af858b2c": {
          "model_module": "@jupyter-widgets/base",
          "model_name": "LayoutModel",
          "model_module_version": "1.2.0",
          "state": {
            "_model_module": "@jupyter-widgets/base",
            "_model_module_version": "1.2.0",
            "_model_name": "LayoutModel",
            "_view_count": null,
            "_view_module": "@jupyter-widgets/base",
            "_view_module_version": "1.2.0",
            "_view_name": "LayoutView",
            "align_content": null,
            "align_items": null,
            "align_self": null,
            "border": null,
            "bottom": null,
            "display": null,
            "flex": null,
            "flex_flow": null,
            "grid_area": null,
            "grid_auto_columns": null,
            "grid_auto_flow": null,
            "grid_auto_rows": null,
            "grid_column": null,
            "grid_gap": null,
            "grid_row": null,
            "grid_template_areas": null,
            "grid_template_columns": null,
            "grid_template_rows": null,
            "height": null,
            "justify_content": null,
            "justify_items": null,
            "left": null,
            "margin": null,
            "max_height": null,
            "max_width": null,
            "min_height": null,
            "min_width": null,
            "object_fit": null,
            "object_position": null,
            "order": null,
            "overflow": null,
            "overflow_x": null,
            "overflow_y": null,
            "padding": null,
            "right": null,
            "top": null,
            "visibility": null,
            "width": null
          }
        },
        "06ff371b74d04e848890cb7cce07695b": {
          "model_module": "@jupyter-widgets/controls",
          "model_name": "ProgressStyleModel",
          "model_module_version": "1.5.0",
          "state": {
            "_model_module": "@jupyter-widgets/controls",
            "_model_module_version": "1.5.0",
            "_model_name": "ProgressStyleModel",
            "_view_count": null,
            "_view_module": "@jupyter-widgets/base",
            "_view_module_version": "1.2.0",
            "_view_name": "StyleView",
            "bar_color": null,
            "description_width": ""
          }
        },
        "55c3f2ebd3e947f7a4a331a8e32aa9ea": {
          "model_module": "@jupyter-widgets/base",
          "model_name": "LayoutModel",
          "model_module_version": "1.2.0",
          "state": {
            "_model_module": "@jupyter-widgets/base",
            "_model_module_version": "1.2.0",
            "_model_name": "LayoutModel",
            "_view_count": null,
            "_view_module": "@jupyter-widgets/base",
            "_view_module_version": "1.2.0",
            "_view_name": "LayoutView",
            "align_content": null,
            "align_items": null,
            "align_self": null,
            "border": null,
            "bottom": null,
            "display": null,
            "flex": null,
            "flex_flow": null,
            "grid_area": null,
            "grid_auto_columns": null,
            "grid_auto_flow": null,
            "grid_auto_rows": null,
            "grid_column": null,
            "grid_gap": null,
            "grid_row": null,
            "grid_template_areas": null,
            "grid_template_columns": null,
            "grid_template_rows": null,
            "height": null,
            "justify_content": null,
            "justify_items": null,
            "left": null,
            "margin": null,
            "max_height": null,
            "max_width": null,
            "min_height": null,
            "min_width": null,
            "object_fit": null,
            "object_position": null,
            "order": null,
            "overflow": null,
            "overflow_x": null,
            "overflow_y": null,
            "padding": null,
            "right": null,
            "top": null,
            "visibility": null,
            "width": null
          }
        },
        "72a83b45967e4a10b7896f24fe3a512d": {
          "model_module": "@jupyter-widgets/controls",
          "model_name": "DescriptionStyleModel",
          "model_module_version": "1.5.0",
          "state": {
            "_model_module": "@jupyter-widgets/controls",
            "_model_module_version": "1.5.0",
            "_model_name": "DescriptionStyleModel",
            "_view_count": null,
            "_view_module": "@jupyter-widgets/base",
            "_view_module_version": "1.2.0",
            "_view_name": "StyleView",
            "description_width": ""
          }
        }
      }
    }
  },
  "nbformat": 4,
  "nbformat_minor": 0
}